{
 "cells": [
  {
   "cell_type": "markdown",
   "metadata": {},
   "source": [
    "# Исследование рынка игр\n",
    "\n",
    "Разработку проекта новой компьютерной\\консольной игры лучше всего начать с исследования опыта известных платформ и игр. Есть информация об играх и продажах в Европе (EU), Северной Америке (NA) и России (RU). Нам необходимо изучите данные, ответите на вопросы и решить, какую игру следует разработать.\n",
    "\n",
    "В наборе данных собраны сведения об играх и рейтинг ESRB (поле и словарь Rating). ESRB (Entertainment Software Rating Board) — это ассоциация, определяющая рейтинг компьютерных игр. ESRB оценивает игровой контент и присваивает ему подходящую возрастную категорию, например, «Для взрослых», «Для детей младшего возраста» или «Для подростков».\n",
    "\n",
    "Помимо рейтинга данный о каждой игре содержат следующие поля:\n",
    "-  Name — название игры\n",
    "-  Platform — платформа\n",
    "-  Year_of_Release — год релиза\n",
    "-  Genre — жанр игры\n",
    "-  NA_players — продажи игрокам в Северной Америке (в миллионах долларов)\n",
    "-  EU_players — продажи игрокам в Европе (в миллионах долларов)\n",
    "-  RU_players — продажи игрокам в России (в миллионах долларов)\n",
    "-  Other_players — продажи игрокам в других странах\n",
    "-  Critic_Score — оценка критиков (максимум 100)\n",
    "-  User_Score — оценка пользователей (максимум 10)"
   ]
  },
  {
   "cell_type": "code",
   "execution_count": 80,
   "metadata": {},
   "outputs": [],
   "source": [
    "import pandas as pd \n",
    "import numpy as np"
   ]
  },
  {
   "cell_type": "code",
   "execution_count": 81,
   "metadata": {},
   "outputs": [
    {
     "data": {
      "text/html": [
       "<div>\n",
       "<style scoped>\n",
       "    .dataframe tbody tr th:only-of-type {\n",
       "        vertical-align: middle;\n",
       "    }\n",
       "\n",
       "    .dataframe tbody tr th {\n",
       "        vertical-align: top;\n",
       "    }\n",
       "\n",
       "    .dataframe thead th {\n",
       "        text-align: right;\n",
       "    }\n",
       "</style>\n",
       "<table border=\"1\" class=\"dataframe\">\n",
       "  <thead>\n",
       "    <tr style=\"text-align: right;\">\n",
       "      <th></th>\n",
       "      <th>Name</th>\n",
       "      <th>Platform</th>\n",
       "      <th>Year_of_Release</th>\n",
       "      <th>Genre</th>\n",
       "      <th>NA_players</th>\n",
       "      <th>EU_players</th>\n",
       "      <th>RU_players</th>\n",
       "      <th>Other_players</th>\n",
       "      <th>Critic_Score</th>\n",
       "      <th>User_Score</th>\n",
       "      <th>Rating</th>\n",
       "    </tr>\n",
       "  </thead>\n",
       "  <tbody>\n",
       "    <tr>\n",
       "      <th>0</th>\n",
       "      <td>Wii Sports</td>\n",
       "      <td>Wii</td>\n",
       "      <td>2006.0</td>\n",
       "      <td>Sports</td>\n",
       "      <td>41.36</td>\n",
       "      <td>28.96</td>\n",
       "      <td>3.77</td>\n",
       "      <td>8.45</td>\n",
       "      <td>76.0</td>\n",
       "      <td>8</td>\n",
       "      <td>E</td>\n",
       "    </tr>\n",
       "    <tr>\n",
       "      <th>1</th>\n",
       "      <td>Super Mario Bros.</td>\n",
       "      <td>NES</td>\n",
       "      <td>1985.0</td>\n",
       "      <td>Platform</td>\n",
       "      <td>29.08</td>\n",
       "      <td>3.58</td>\n",
       "      <td>6.81</td>\n",
       "      <td>0.77</td>\n",
       "      <td>NaN</td>\n",
       "      <td>NaN</td>\n",
       "      <td>NaN</td>\n",
       "    </tr>\n",
       "    <tr>\n",
       "      <th>2</th>\n",
       "      <td>Mario Kart Wii</td>\n",
       "      <td>Wii</td>\n",
       "      <td>2008.0</td>\n",
       "      <td>Racing</td>\n",
       "      <td>15.68</td>\n",
       "      <td>12.76</td>\n",
       "      <td>3.79</td>\n",
       "      <td>3.29</td>\n",
       "      <td>82.0</td>\n",
       "      <td>8.3</td>\n",
       "      <td>E</td>\n",
       "    </tr>\n",
       "    <tr>\n",
       "      <th>3</th>\n",
       "      <td>Wii Sports Resort</td>\n",
       "      <td>Wii</td>\n",
       "      <td>2009.0</td>\n",
       "      <td>Sports</td>\n",
       "      <td>15.61</td>\n",
       "      <td>10.93</td>\n",
       "      <td>3.28</td>\n",
       "      <td>2.95</td>\n",
       "      <td>80.0</td>\n",
       "      <td>8</td>\n",
       "      <td>E</td>\n",
       "    </tr>\n",
       "    <tr>\n",
       "      <th>4</th>\n",
       "      <td>Pokemon Red/Pokemon Blue</td>\n",
       "      <td>GB</td>\n",
       "      <td>1996.0</td>\n",
       "      <td>Role-Playing</td>\n",
       "      <td>11.27</td>\n",
       "      <td>8.89</td>\n",
       "      <td>10.22</td>\n",
       "      <td>1.00</td>\n",
       "      <td>NaN</td>\n",
       "      <td>NaN</td>\n",
       "      <td>NaN</td>\n",
       "    </tr>\n",
       "  </tbody>\n",
       "</table>\n",
       "</div>"
      ],
      "text/plain": [
       "                       Name Platform  Year_of_Release         Genre  \\\n",
       "0                Wii Sports      Wii           2006.0        Sports   \n",
       "1         Super Mario Bros.      NES           1985.0      Platform   \n",
       "2            Mario Kart Wii      Wii           2008.0        Racing   \n",
       "3         Wii Sports Resort      Wii           2009.0        Sports   \n",
       "4  Pokemon Red/Pokemon Blue       GB           1996.0  Role-Playing   \n",
       "\n",
       "   NA_players  EU_players  RU_players  Other_players  Critic_Score User_Score  \\\n",
       "0       41.36       28.96        3.77           8.45          76.0          8   \n",
       "1       29.08        3.58        6.81           0.77           NaN        NaN   \n",
       "2       15.68       12.76        3.79           3.29          82.0        8.3   \n",
       "3       15.61       10.93        3.28           2.95          80.0          8   \n",
       "4       11.27        8.89       10.22           1.00           NaN        NaN   \n",
       "\n",
       "  Rating  \n",
       "0      E  \n",
       "1    NaN  \n",
       "2      E  \n",
       "3      E  \n",
       "4    NaN  "
      ]
     },
     "execution_count": 81,
     "metadata": {},
     "output_type": "execute_result"
    }
   ],
   "source": [
    "games_data = pd.read_csv('/datasets/games.csv')\n",
    "rating_data = pd.read_csv('/datasets/rating.csv')\n",
    "games_data.head()"
   ]
  },
  {
   "cell_type": "code",
   "execution_count": 82,
   "metadata": {},
   "outputs": [
    {
     "data": {
      "text/html": [
       "<div>\n",
       "<style scoped>\n",
       "    .dataframe tbody tr th:only-of-type {\n",
       "        vertical-align: middle;\n",
       "    }\n",
       "\n",
       "    .dataframe tbody tr th {\n",
       "        vertical-align: top;\n",
       "    }\n",
       "\n",
       "    .dataframe thead th {\n",
       "        text-align: right;\n",
       "    }\n",
       "</style>\n",
       "<table border=\"1\" class=\"dataframe\">\n",
       "  <thead>\n",
       "    <tr style=\"text-align: right;\">\n",
       "      <th></th>\n",
       "      <th>rating_type</th>\n",
       "      <th>decryption</th>\n",
       "    </tr>\n",
       "  </thead>\n",
       "  <tbody>\n",
       "    <tr>\n",
       "      <th>0</th>\n",
       "      <td>E</td>\n",
       "      <td>Для всех</td>\n",
       "    </tr>\n",
       "    <tr>\n",
       "      <th>1</th>\n",
       "      <td>M</td>\n",
       "      <td>От 17 лет</td>\n",
       "    </tr>\n",
       "    <tr>\n",
       "      <th>2</th>\n",
       "      <td>T</td>\n",
       "      <td>Подросткам 13—19 лет</td>\n",
       "    </tr>\n",
       "    <tr>\n",
       "      <th>3</th>\n",
       "      <td>E10+</td>\n",
       "      <td>Для всех старше 10 лет</td>\n",
       "    </tr>\n",
       "    <tr>\n",
       "      <th>4</th>\n",
       "      <td>K-A</td>\n",
       "      <td>Для всех(до 1998 года)</td>\n",
       "    </tr>\n",
       "  </tbody>\n",
       "</table>\n",
       "</div>"
      ],
      "text/plain": [
       "  rating_type              decryption\n",
       "0           E                Для всех\n",
       "1           M               От 17 лет\n",
       "2           T    Подросткам 13—19 лет\n",
       "3        E10+  Для всех старше 10 лет\n",
       "4         K-A  Для всех(до 1998 года)"
      ]
     },
     "execution_count": 82,
     "metadata": {},
     "output_type": "execute_result"
    }
   ],
   "source": [
    "rating_data.head()"
   ]
  },
  {
   "cell_type": "code",
   "execution_count": 83,
   "metadata": {},
   "outputs": [
    {
     "data": {
      "text/plain": [
       "Index(['Name', 'Platform', 'Year_of_Release', 'Genre', 'NA_players',\n",
       "       'EU_players', 'RU_players', 'Other_players', 'Critic_Score',\n",
       "       'User_Score', 'Rating'],\n",
       "      dtype='object')"
      ]
     },
     "execution_count": 83,
     "metadata": {},
     "output_type": "execute_result"
    }
   ],
   "source": [
    "games_data.columns"
   ]
  },
  {
   "cell_type": "code",
   "execution_count": 84,
   "metadata": {},
   "outputs": [
    {
     "data": {
      "text/plain": [
       "Index(['rating_type', 'decryption'], dtype='object')"
      ]
     },
     "execution_count": 84,
     "metadata": {},
     "output_type": "execute_result"
    }
   ],
   "source": [
    "rating_data.columns"
   ]
  },
  {
   "cell_type": "markdown",
   "metadata": {},
   "source": [
    "В названиях нет лишних пробелов но столбцы с выручкой называются не вполне адекватно переименуем их, чтоб было понятнее"
   ]
  },
  {
   "cell_type": "code",
   "execution_count": 85,
   "metadata": {},
   "outputs": [],
   "source": [
    "games_data.rename(columns={'NA_players': 'NA_sales', 'EU_players': 'EU_sales', 'RU_players':'RU_sales', 'Other_players':'Other_sales'}, inplace=True)"
   ]
  },
  {
   "cell_type": "code",
   "execution_count": 86,
   "metadata": {},
   "outputs": [],
   "source": [
    "# создадим рабочие таблицы\n",
    "games_df=games_data\n",
    "rating_df = rating_data"
   ]
  },
  {
   "cell_type": "code",
   "execution_count": 87,
   "metadata": {},
   "outputs": [
    {
     "name": "stdout",
     "output_type": "stream",
     "text": [
      "<class 'pandas.core.frame.DataFrame'>\n",
      "RangeIndex: 16719 entries, 0 to 16718\n",
      "Data columns (total 11 columns):\n",
      "Name               16717 non-null object\n",
      "Platform           16719 non-null object\n",
      "Year_of_Release    16450 non-null float64\n",
      "Genre              16717 non-null object\n",
      "NA_sales           16719 non-null float64\n",
      "EU_sales           16719 non-null float64\n",
      "RU_sales           16719 non-null float64\n",
      "Other_sales        16719 non-null float64\n",
      "Critic_Score       8137 non-null float64\n",
      "User_Score         10015 non-null object\n",
      "Rating             9950 non-null object\n",
      "dtypes: float64(6), object(5)\n",
      "memory usage: 1.4+ MB\n"
     ]
    }
   ],
   "source": [
    "games_df.info()"
   ]
  },
  {
   "cell_type": "markdown",
   "metadata": {},
   "source": [
    "В данных есть пропуски. Заполним их следующим образом:\n",
    "-  столбцы Name и Genre значением 'NoName'\n",
    "-  столбцы Year_of_Release, Critic_Score и User_Score условным значением -1, так как для года выпуска какое-любо заполнение не корректно, а для оценок пользователей и критиков пропусков слишком много (больше 50% для Critic_Score и больше 40% для User_Score), так что при необходимости мы сможем выделить реальные данные и работать только с ними.\n",
    "-  для столбца Rating - RP .\n",
    "\n",
    "Заменим тип данных:\n",
    "-  Year_of_Release на int\n",
    "-  User_Score на float "
   ]
  },
  {
   "cell_type": "markdown",
   "metadata": {},
   "source": [
    "## Шаг 1. Предобработка данных"
   ]
  },
  {
   "cell_type": "code",
   "execution_count": 88,
   "metadata": {},
   "outputs": [],
   "source": [
    "values = {'Name': 'NoName', 'Year_of_Release': -1, 'Genre': 'NoName', 'Critic_Score': -1, 'User_Score': '-1', 'Rating': 'RP'}\n",
    "games_df = games_df.fillna(value=values)\n",
    "\n",
    "# заменим tbd(наверное это to be determined) в User_Score тоже на -1 \n",
    "games_df['User_Score'] = games_df['User_Score'].replace('tbd', '-1')"
   ]
  },
  {
   "cell_type": "code",
   "execution_count": 89,
   "metadata": {},
   "outputs": [
    {
     "name": "stdout",
     "output_type": "stream",
     "text": [
      "<class 'pandas.core.frame.DataFrame'>\n",
      "RangeIndex: 16719 entries, 0 to 16718\n",
      "Data columns (total 11 columns):\n",
      "Name               16719 non-null object\n",
      "Platform           16719 non-null object\n",
      "Year_of_Release    16719 non-null int64\n",
      "Genre              16719 non-null object\n",
      "NA_sales           16719 non-null float64\n",
      "EU_sales           16719 non-null float64\n",
      "RU_sales           16719 non-null float64\n",
      "Other_sales        16719 non-null float64\n",
      "Critic_Score       16719 non-null float64\n",
      "User_Score         16719 non-null float64\n",
      "Rating             16719 non-null object\n",
      "dtypes: float64(6), int64(1), object(4)\n",
      "memory usage: 1.4+ MB\n"
     ]
    }
   ],
   "source": [
    "games_df['Year_of_Release'] = games_df['Year_of_Release'].astype('int64')\n",
    "games_df['User_Score'] = games_df['User_Score'].astype('float64')\n",
    "games_df.info()"
   ]
  },
  {
   "cell_type": "markdown",
   "metadata": {},
   "source": [
    "С данными все в порядке модно приступать к работе. Но сначала добавим столбец Total_sales с количеством продаж во всех регионах"
   ]
  },
  {
   "cell_type": "code",
   "execution_count": 90,
   "metadata": {},
   "outputs": [
    {
     "data": {
      "text/html": [
       "<div>\n",
       "<style scoped>\n",
       "    .dataframe tbody tr th:only-of-type {\n",
       "        vertical-align: middle;\n",
       "    }\n",
       "\n",
       "    .dataframe tbody tr th {\n",
       "        vertical-align: top;\n",
       "    }\n",
       "\n",
       "    .dataframe thead th {\n",
       "        text-align: right;\n",
       "    }\n",
       "</style>\n",
       "<table border=\"1\" class=\"dataframe\">\n",
       "  <thead>\n",
       "    <tr style=\"text-align: right;\">\n",
       "      <th></th>\n",
       "      <th>Name</th>\n",
       "      <th>Platform</th>\n",
       "      <th>Year_of_Release</th>\n",
       "      <th>Genre</th>\n",
       "      <th>NA_sales</th>\n",
       "      <th>EU_sales</th>\n",
       "      <th>RU_sales</th>\n",
       "      <th>Other_sales</th>\n",
       "      <th>Critic_Score</th>\n",
       "      <th>User_Score</th>\n",
       "      <th>Rating</th>\n",
       "      <th>Total_sales</th>\n",
       "    </tr>\n",
       "  </thead>\n",
       "  <tbody>\n",
       "    <tr>\n",
       "      <th>0</th>\n",
       "      <td>Wii Sports</td>\n",
       "      <td>Wii</td>\n",
       "      <td>2006</td>\n",
       "      <td>Sports</td>\n",
       "      <td>41.36</td>\n",
       "      <td>28.96</td>\n",
       "      <td>3.77</td>\n",
       "      <td>8.45</td>\n",
       "      <td>76.0</td>\n",
       "      <td>8.0</td>\n",
       "      <td>E</td>\n",
       "      <td>82.54</td>\n",
       "    </tr>\n",
       "    <tr>\n",
       "      <th>1</th>\n",
       "      <td>Super Mario Bros.</td>\n",
       "      <td>NES</td>\n",
       "      <td>1985</td>\n",
       "      <td>Platform</td>\n",
       "      <td>29.08</td>\n",
       "      <td>3.58</td>\n",
       "      <td>6.81</td>\n",
       "      <td>0.77</td>\n",
       "      <td>-1.0</td>\n",
       "      <td>-1.0</td>\n",
       "      <td>RP</td>\n",
       "      <td>40.24</td>\n",
       "    </tr>\n",
       "    <tr>\n",
       "      <th>2</th>\n",
       "      <td>Mario Kart Wii</td>\n",
       "      <td>Wii</td>\n",
       "      <td>2008</td>\n",
       "      <td>Racing</td>\n",
       "      <td>15.68</td>\n",
       "      <td>12.76</td>\n",
       "      <td>3.79</td>\n",
       "      <td>3.29</td>\n",
       "      <td>82.0</td>\n",
       "      <td>8.3</td>\n",
       "      <td>E</td>\n",
       "      <td>35.52</td>\n",
       "    </tr>\n",
       "    <tr>\n",
       "      <th>3</th>\n",
       "      <td>Wii Sports Resort</td>\n",
       "      <td>Wii</td>\n",
       "      <td>2009</td>\n",
       "      <td>Sports</td>\n",
       "      <td>15.61</td>\n",
       "      <td>10.93</td>\n",
       "      <td>3.28</td>\n",
       "      <td>2.95</td>\n",
       "      <td>80.0</td>\n",
       "      <td>8.0</td>\n",
       "      <td>E</td>\n",
       "      <td>32.77</td>\n",
       "    </tr>\n",
       "    <tr>\n",
       "      <th>4</th>\n",
       "      <td>Pokemon Red/Pokemon Blue</td>\n",
       "      <td>GB</td>\n",
       "      <td>1996</td>\n",
       "      <td>Role-Playing</td>\n",
       "      <td>11.27</td>\n",
       "      <td>8.89</td>\n",
       "      <td>10.22</td>\n",
       "      <td>1.00</td>\n",
       "      <td>-1.0</td>\n",
       "      <td>-1.0</td>\n",
       "      <td>RP</td>\n",
       "      <td>31.38</td>\n",
       "    </tr>\n",
       "  </tbody>\n",
       "</table>\n",
       "</div>"
      ],
      "text/plain": [
       "                       Name Platform  Year_of_Release         Genre  NA_sales  \\\n",
       "0                Wii Sports      Wii             2006        Sports     41.36   \n",
       "1         Super Mario Bros.      NES             1985      Platform     29.08   \n",
       "2            Mario Kart Wii      Wii             2008        Racing     15.68   \n",
       "3         Wii Sports Resort      Wii             2009        Sports     15.61   \n",
       "4  Pokemon Red/Pokemon Blue       GB             1996  Role-Playing     11.27   \n",
       "\n",
       "   EU_sales  RU_sales  Other_sales  Critic_Score  User_Score Rating  \\\n",
       "0     28.96      3.77         8.45          76.0         8.0      E   \n",
       "1      3.58      6.81         0.77          -1.0        -1.0     RP   \n",
       "2     12.76      3.79         3.29          82.0         8.3      E   \n",
       "3     10.93      3.28         2.95          80.0         8.0      E   \n",
       "4      8.89     10.22         1.00          -1.0        -1.0     RP   \n",
       "\n",
       "   Total_sales  \n",
       "0        82.54  \n",
       "1        40.24  \n",
       "2        35.52  \n",
       "3        32.77  \n",
       "4        31.38  "
      ]
     },
     "execution_count": 90,
     "metadata": {},
     "output_type": "execute_result"
    }
   ],
   "source": [
    "games_df['Total_sales'] = games_df['NA_sales'] +  games_df['EU_sales'] +  games_df['RU_sales'] +  games_df['Other_sales']\n",
    "games_df.head()"
   ]
  },
  {
   "cell_type": "markdown",
   "metadata": {},
   "source": [
    "## Шаг 2. Исследовательский анализ данных"
   ]
  },
  {
   "cell_type": "code",
   "execution_count": 91,
   "metadata": {},
   "outputs": [
    {
     "data": {
      "text/plain": [
       "<matplotlib.axes._subplots.AxesSubplot at 0x7f05989ae550>"
      ]
     },
     "execution_count": 91,
     "metadata": {},
     "output_type": "execute_result"
    },
    {
     "data": {
      "image/png": "[encoded data removed]",
      "text/plain": [
       "<Figure size 432x288 with 1 Axes>"
      ]
     },
     "metadata": {
      "needs_background": "light"
     },
     "output_type": "display_data"
    }
   ],
   "source": [
    "games_by_year = games_df.query('Year_of_Release > 0')\n",
    "games_by_year['Year_of_Release'].hist(bins=40)"
   ]
  },
  {
   "cell_type": "markdown",
   "metadata": {},
   "source": [
    "Сейчас гейм-индустря переживает спад - количество выпускаемых игр на уровне 2002 (около 500 в год). Да, пик 2008-2009 года уже позади, а тогда выходило больше 1400 игр в год. Значит конкуренция, возможно, не так высока...."
   ]
  },
  {
   "cell_type": "code",
   "execution_count": 92,
   "metadata": {},
   "outputs": [
    {
     "data": {
      "text/plain": [
       "<matplotlib.axes._subplots.AxesSubplot at 0x7f0598780da0>"
      ]
     },
     "execution_count": 92,
     "metadata": {},
     "output_type": "execute_result"
    },
    {
     "data": {
      "image/png": "[encoded data removed]",
      "text/plain": [
       "<Figure size 432x288 with 1 Axes>"
      ]
     },
     "metadata": {
      "needs_background": "light"
     },
     "output_type": "display_data"
    }
   ],
   "source": [
    "games_by_year_with_scores =  games_by_year.query('User_Score > 0')\n",
    "games_by_year_without_scores =  games_by_year.query('User_Score == -1')\n",
    "games_by_year_with_scores['Year_of_Release'].hist(bins=30)"
   ]
  },
  {
   "cell_type": "code",
   "execution_count": 93,
   "metadata": {},
   "outputs": [
    {
     "data": {
      "text/plain": [
       "<matplotlib.axes._subplots.AxesSubplot at 0x7f059878ca20>"
      ]
     },
     "execution_count": 93,
     "metadata": {},
     "output_type": "execute_result"
    },
    {
     "data": {
      "image/png": "[encoded data removed]",
      "text/plain": [
       "<Figure size 432x288 with 1 Axes>"
      ]
     },
     "metadata": {
      "needs_background": "light"
     },
     "output_type": "display_data"
    }
   ],
   "source": [
    "games_by_year_without_scores['Year_of_Release'].hist(bins=40)"
   ]
  },
  {
   "cell_type": "markdown",
   "metadata": {},
   "source": [
    "Видно, что пользовательские оценки получают игры в основном после 2000 года выпуска."
   ]
  },
  {
   "cell_type": "markdown",
   "metadata": {},
   "source": [
    "### Рассмотрим продажи"
   ]
  },
  {
   "cell_type": "code",
   "execution_count": 94,
   "metadata": {},
   "outputs": [
    {
     "data": {
      "text/plain": [
       "<matplotlib.axes._subplots.AxesSubplot at 0x7f05986a9da0>"
      ]
     },
     "execution_count": 94,
     "metadata": {},
     "output_type": "execute_result"
    },
    {
     "data": {
      "image/png": "[encoded data removed]",
      "text/plain": [
       "<Figure size 432x288 with 1 Axes>"
      ]
     },
     "metadata": {
      "needs_background": "light"
     },
     "output_type": "display_data"
    }
   ],
   "source": [
    "players_by_year = games_by_year.pivot_table(index='Year_of_Release', values='Total_sales', aggfunc=np.sum) \n",
    "players_by_year.plot()"
   ]
  },
  {
   "cell_type": "markdown",
   "metadata": {},
   "source": [
    "Видно, что продажи неплохо коррелируют с количеством выпускаемых игр - чем больше игр выпускаем, тем больше и продаем (т.е пик продаж также приходится на 2008-2009 годы). При этом в последние годы продажи сильно упали (сильнее, чем выпуск игр). Это еще раз говорит, что отрасль в некотором кризисе. Конкуренция может быть не так сильна, но и пользователи достаточно требовательны."
   ]
  },
  {
   "cell_type": "code",
   "execution_count": 95,
   "metadata": {
    "scrolled": true
   },
   "outputs": [
    {
     "data": {
      "text/plain": [
       "<matplotlib.axes._subplots.AxesSubplot at 0x7f05985922b0>"
      ]
     },
     "execution_count": 95,
     "metadata": {},
     "output_type": "execute_result"
    },
    {
     "data": {
      "image/png": "[encoded data removed]",
      "text/plain": [
       "<Figure size 432x288 with 1 Axes>"
      ]
     },
     "metadata": {
      "needs_background": "light"
     },
     "output_type": "display_data"
    }
   ],
   "source": [
    "import matplotlib.pyplot as plt\n",
    "\n",
    "games_df.boxplot(column=['Total_sales'])"
   ]
  },
  {
   "cell_type": "code",
   "execution_count": 96,
   "metadata": {},
   "outputs": [
    {
     "name": "stdout",
     "output_type": "stream",
     "text": [
      "Рассмотрим количества по группам:\n",
      "Лидеры рынка с продажами более 30 млн. долларов -  6\n",
      "Сильные игры с продажамиот 10 до 30 млн. долларов - 56\n",
      "Уверенные середнечки с продажами от 1 до 10 млн. долларов - 1999\n",
      "Отстающие с продажами более от 0.1 до 1 млн. долларов - 8351\n",
      "Не удачные проекты, которые врядли окупились с продажами менее 0.1 млн.долларов - 6095\n"
     ]
    }
   ],
   "source": [
    "print('Рассмотрим количества по группам:')\n",
    "print('Лидеры рынка с продажами более 30 млн. долларов - ', games_df.query('Total_sales > 30').shape[0])\n",
    "print('Сильные игры с продажамиот 10 до 30 млн. долларов -', games_df.query('10 < Total_sales <= 30').shape[0])\n",
    "print('Уверенные середнечки с продажами от 1 до 10 млн. долларов -', games_df.query('1 < Total_sales <= 10').shape[0])\n",
    "print('Отстающие с продажами более от 0.1 до 1 млн. долларов -', games_df.query('0.1 < Total_sales <= 1').shape[0])\n",
    "print('Не удачные проекты, которые врядли окупились с продажами менее 0.1 млн.долларов -', games_df.query('Total_sales < 0.1').shape[0])"
   ]
  },
  {
   "cell_type": "markdown",
   "metadata": {},
   "source": [
    "Мы видим, что выпуск консольной игры - рискованный проект. Более 6095  игр из наших данных (а это 36%) скорее всего не покрыли затрат на разработку.По настоящему популярными стали всего 62 игры (менее 1%). Еще 12% игр принесли неплохую прибыль и 50% находятся где-то на грани окупаемости и небольшой прибыли (зависит, конечно, от затрат на разработку, но продажи в целом не впечатляют.)"
   ]
  },
  {
   "cell_type": "markdown",
   "metadata": {},
   "source": [
    "### Рассмотрим различные консоли и жанры"
   ]
  },
  {
   "cell_type": "code",
   "execution_count": 97,
   "metadata": {},
   "outputs": [
    {
     "data": {
      "text/plain": [
       "PS2     2161\n",
       "DS      2152\n",
       "PS3     1331\n",
       "Wii     1320\n",
       "X360    1262\n",
       "Name: Platform, dtype: int64"
      ]
     },
     "execution_count": 97,
     "metadata": {},
     "output_type": "execute_result"
    }
   ],
   "source": [
    "games_platform = games_df['Platform'].value_counts().sort_values(ascending=False)\n",
    "games_platform.head()"
   ]
  },
  {
   "cell_type": "code",
   "execution_count": 98,
   "metadata": {},
   "outputs": [
    {
     "data": {
      "text/plain": [
       "Action          3370\n",
       "Sports          2348\n",
       "Misc            1750\n",
       "Role-Playing    1500\n",
       "Shooter         1323\n",
       "Name: Genre, dtype: int64"
      ]
     },
     "execution_count": 98,
     "metadata": {},
     "output_type": "execute_result"
    }
   ],
   "source": [
    "games_platform = games_df['Genre'].value_counts().sort_values(ascending=False)\n",
    "games_platform.head()"
   ]
  },
  {
   "cell_type": "markdown",
   "metadata": {},
   "source": [
    "Больше всего игр было выпущено под PS2. Не удивительно, ведь эта платформа была распространена в период наиболее активного выпуска.продажи игр (2008-2009 год).\n",
    "\n",
    "Жанр Action также оказался очень популярным у производителей ... "
   ]
  },
  {
   "cell_type": "code",
   "execution_count": 99,
   "metadata": {},
   "outputs": [
    {
     "data": {
      "text/html": [
       "<div>\n",
       "<style scoped>\n",
       "    .dataframe tbody tr th:only-of-type {\n",
       "        vertical-align: middle;\n",
       "    }\n",
       "\n",
       "    .dataframe tbody tr th {\n",
       "        vertical-align: top;\n",
       "    }\n",
       "\n",
       "    .dataframe thead th {\n",
       "        text-align: right;\n",
       "    }\n",
       "</style>\n",
       "<table border=\"1\" class=\"dataframe\">\n",
       "  <thead>\n",
       "    <tr style=\"text-align: right;\">\n",
       "      <th></th>\n",
       "      <th>Total_sales</th>\n",
       "    </tr>\n",
       "    <tr>\n",
       "      <th>Genre</th>\n",
       "      <th></th>\n",
       "    </tr>\n",
       "  </thead>\n",
       "  <tbody>\n",
       "    <tr>\n",
       "      <th>Action</th>\n",
       "      <td>1744.18</td>\n",
       "    </tr>\n",
       "    <tr>\n",
       "      <th>Sports</th>\n",
       "      <td>1331.27</td>\n",
       "    </tr>\n",
       "    <tr>\n",
       "      <th>Shooter</th>\n",
       "      <td>1052.45</td>\n",
       "    </tr>\n",
       "    <tr>\n",
       "      <th>Role-Playing</th>\n",
       "      <td>934.61</td>\n",
       "    </tr>\n",
       "    <tr>\n",
       "      <th>Platform</th>\n",
       "      <td>827.77</td>\n",
       "    </tr>\n",
       "  </tbody>\n",
       "</table>\n",
       "</div>"
      ],
      "text/plain": [
       "              Total_sales\n",
       "Genre                    \n",
       "Action            1744.18\n",
       "Sports            1331.27\n",
       "Shooter           1052.45\n",
       "Role-Playing       934.61\n",
       "Platform           827.77"
      ]
     },
     "execution_count": 99,
     "metadata": {},
     "output_type": "execute_result"
    }
   ],
   "source": [
    "players_by_genre = games_df.pivot_table(index='Genre', values='Total_sales', aggfunc=np.sum) \n",
    "players_by_genre.sort_values(by = 'Total_sales', ascending=False).head()"
   ]
  },
  {
   "cell_type": "markdown",
   "metadata": {},
   "source": [
    "и у пользователей тоже. Также популярны шутеры и спортивные игры, они вмете с экшнами приносят больше всего дохода."
   ]
  },
  {
   "cell_type": "markdown",
   "metadata": {},
   "source": [
    "### Рассмотрим оценки пользователей и критиков"
   ]
  },
  {
   "cell_type": "code",
   "execution_count": 100,
   "metadata": {},
   "outputs": [
    {
     "data": {
      "text/html": [
       "<div>\n",
       "<style scoped>\n",
       "    .dataframe tbody tr th:only-of-type {\n",
       "        vertical-align: middle;\n",
       "    }\n",
       "\n",
       "    .dataframe tbody tr th {\n",
       "        vertical-align: top;\n",
       "    }\n",
       "\n",
       "    .dataframe thead th {\n",
       "        text-align: right;\n",
       "    }\n",
       "</style>\n",
       "<table border=\"1\" class=\"dataframe\">\n",
       "  <thead>\n",
       "    <tr style=\"text-align: right;\">\n",
       "      <th></th>\n",
       "      <th>Name</th>\n",
       "      <th>Platform</th>\n",
       "      <th>Year_of_Release</th>\n",
       "      <th>Genre</th>\n",
       "      <th>NA_sales</th>\n",
       "      <th>EU_sales</th>\n",
       "      <th>RU_sales</th>\n",
       "      <th>Other_sales</th>\n",
       "      <th>Critic_Score</th>\n",
       "      <th>User_Score</th>\n",
       "      <th>Rating</th>\n",
       "      <th>Total_sales</th>\n",
       "    </tr>\n",
       "  </thead>\n",
       "  <tbody>\n",
       "    <tr>\n",
       "      <th>14414</th>\n",
       "      <td>Breath of Fire III</td>\n",
       "      <td>PSP</td>\n",
       "      <td>2005</td>\n",
       "      <td>Role-Playing</td>\n",
       "      <td>0.00</td>\n",
       "      <td>0.02</td>\n",
       "      <td>0.00</td>\n",
       "      <td>0.01</td>\n",
       "      <td>-1.0</td>\n",
       "      <td>9.7</td>\n",
       "      <td>T</td>\n",
       "      <td>0.03</td>\n",
       "    </tr>\n",
       "    <tr>\n",
       "      <th>8976</th>\n",
       "      <td>Boktai: The Sun is in Your Hand</td>\n",
       "      <td>GBA</td>\n",
       "      <td>2003</td>\n",
       "      <td>Role-Playing</td>\n",
       "      <td>0.10</td>\n",
       "      <td>0.04</td>\n",
       "      <td>0.00</td>\n",
       "      <td>0.00</td>\n",
       "      <td>83.0</td>\n",
       "      <td>9.6</td>\n",
       "      <td>E</td>\n",
       "      <td>0.14</td>\n",
       "    </tr>\n",
       "    <tr>\n",
       "      <th>3417</th>\n",
       "      <td>Harvest Moon: Friends of Mineral Town</td>\n",
       "      <td>GBA</td>\n",
       "      <td>2003</td>\n",
       "      <td>Simulation</td>\n",
       "      <td>0.34</td>\n",
       "      <td>0.13</td>\n",
       "      <td>0.11</td>\n",
       "      <td>0.01</td>\n",
       "      <td>81.0</td>\n",
       "      <td>9.6</td>\n",
       "      <td>E</td>\n",
       "      <td>0.59</td>\n",
       "    </tr>\n",
       "    <tr>\n",
       "      <th>10106</th>\n",
       "      <td>Cory in the House</td>\n",
       "      <td>DS</td>\n",
       "      <td>2007</td>\n",
       "      <td>Action</td>\n",
       "      <td>0.10</td>\n",
       "      <td>0.00</td>\n",
       "      <td>0.00</td>\n",
       "      <td>0.01</td>\n",
       "      <td>-1.0</td>\n",
       "      <td>9.5</td>\n",
       "      <td>E</td>\n",
       "      <td>0.11</td>\n",
       "    </tr>\n",
       "    <tr>\n",
       "      <th>16550</th>\n",
       "      <td>Wade Hixton's Counter Punch</td>\n",
       "      <td>GBA</td>\n",
       "      <td>2004</td>\n",
       "      <td>Sports</td>\n",
       "      <td>0.01</td>\n",
       "      <td>0.00</td>\n",
       "      <td>0.00</td>\n",
       "      <td>0.00</td>\n",
       "      <td>78.0</td>\n",
       "      <td>9.5</td>\n",
       "      <td>T</td>\n",
       "      <td>0.01</td>\n",
       "    </tr>\n",
       "  </tbody>\n",
       "</table>\n",
       "</div>"
      ],
      "text/plain": [
       "                                        Name Platform  Year_of_Release  \\\n",
       "14414                     Breath of Fire III      PSP             2005   \n",
       "8976         Boktai: The Sun is in Your Hand      GBA             2003   \n",
       "3417   Harvest Moon: Friends of Mineral Town      GBA             2003   \n",
       "10106                      Cory in the House       DS             2007   \n",
       "16550            Wade Hixton's Counter Punch      GBA             2004   \n",
       "\n",
       "              Genre  NA_sales  EU_sales  RU_sales  Other_sales  Critic_Score  \\\n",
       "14414  Role-Playing      0.00      0.02      0.00         0.01          -1.0   \n",
       "8976   Role-Playing      0.10      0.04      0.00         0.00          83.0   \n",
       "3417     Simulation      0.34      0.13      0.11         0.01          81.0   \n",
       "10106        Action      0.10      0.00      0.00         0.01          -1.0   \n",
       "16550        Sports      0.01      0.00      0.00         0.00          78.0   \n",
       "\n",
       "       User_Score Rating  Total_sales  \n",
       "14414         9.7      T         0.03  \n",
       "8976          9.6      E         0.14  \n",
       "3417          9.6      E         0.59  \n",
       "10106         9.5      E         0.11  \n",
       "16550         9.5      T         0.01  "
      ]
     },
     "execution_count": 100,
     "metadata": {},
     "output_type": "execute_result"
    }
   ],
   "source": [
    "games_df.sort_values(by = 'User_Score', ascending=False).head()"
   ]
  },
  {
   "cell_type": "code",
   "execution_count": 101,
   "metadata": {},
   "outputs": [
    {
     "data": {
      "text/html": [
       "<div>\n",
       "<style scoped>\n",
       "    .dataframe tbody tr th:only-of-type {\n",
       "        vertical-align: middle;\n",
       "    }\n",
       "\n",
       "    .dataframe tbody tr th {\n",
       "        vertical-align: top;\n",
       "    }\n",
       "\n",
       "    .dataframe thead th {\n",
       "        text-align: right;\n",
       "    }\n",
       "</style>\n",
       "<table border=\"1\" class=\"dataframe\">\n",
       "  <thead>\n",
       "    <tr style=\"text-align: right;\">\n",
       "      <th></th>\n",
       "      <th>Name</th>\n",
       "      <th>Platform</th>\n",
       "      <th>Year_of_Release</th>\n",
       "      <th>Genre</th>\n",
       "      <th>NA_sales</th>\n",
       "      <th>EU_sales</th>\n",
       "      <th>RU_sales</th>\n",
       "      <th>Other_sales</th>\n",
       "      <th>Critic_Score</th>\n",
       "      <th>User_Score</th>\n",
       "      <th>Rating</th>\n",
       "      <th>Total_sales</th>\n",
       "    </tr>\n",
       "  </thead>\n",
       "  <tbody>\n",
       "    <tr>\n",
       "      <th>13683</th>\n",
       "      <td>Myth Makers: Trixie in Toyland</td>\n",
       "      <td>Wii</td>\n",
       "      <td>2008</td>\n",
       "      <td>Platform</td>\n",
       "      <td>0.04</td>\n",
       "      <td>0.00</td>\n",
       "      <td>0.0</td>\n",
       "      <td>0.00</td>\n",
       "      <td>-1.0</td>\n",
       "      <td>0.2</td>\n",
       "      <td>E</td>\n",
       "      <td>0.04</td>\n",
       "    </tr>\n",
       "    <tr>\n",
       "      <th>9971</th>\n",
       "      <td>Madden NFL 17</td>\n",
       "      <td>PS3</td>\n",
       "      <td>2016</td>\n",
       "      <td>Sports</td>\n",
       "      <td>0.07</td>\n",
       "      <td>0.02</td>\n",
       "      <td>0.0</td>\n",
       "      <td>0.02</td>\n",
       "      <td>-1.0</td>\n",
       "      <td>0.2</td>\n",
       "      <td>E</td>\n",
       "      <td>0.11</td>\n",
       "    </tr>\n",
       "    <tr>\n",
       "      <th>5764</th>\n",
       "      <td>Happy Feet</td>\n",
       "      <td>DS</td>\n",
       "      <td>2006</td>\n",
       "      <td>Action</td>\n",
       "      <td>0.27</td>\n",
       "      <td>0.01</td>\n",
       "      <td>0.0</td>\n",
       "      <td>0.02</td>\n",
       "      <td>-1.0</td>\n",
       "      <td>0.3</td>\n",
       "      <td>E</td>\n",
       "      <td>0.30</td>\n",
       "    </tr>\n",
       "    <tr>\n",
       "      <th>13381</th>\n",
       "      <td>Billy the Wizard: Rocket Broomstick Racing</td>\n",
       "      <td>Wii</td>\n",
       "      <td>2007</td>\n",
       "      <td>Racing</td>\n",
       "      <td>0.04</td>\n",
       "      <td>0.00</td>\n",
       "      <td>0.0</td>\n",
       "      <td>0.00</td>\n",
       "      <td>-1.0</td>\n",
       "      <td>0.3</td>\n",
       "      <td>E</td>\n",
       "      <td>0.04</td>\n",
       "    </tr>\n",
       "    <tr>\n",
       "      <th>10263</th>\n",
       "      <td>Charlie and the Chocolate Factory</td>\n",
       "      <td>XB</td>\n",
       "      <td>2005</td>\n",
       "      <td>Adventure</td>\n",
       "      <td>0.08</td>\n",
       "      <td>0.02</td>\n",
       "      <td>0.0</td>\n",
       "      <td>0.00</td>\n",
       "      <td>39.0</td>\n",
       "      <td>0.5</td>\n",
       "      <td>E</td>\n",
       "      <td>0.10</td>\n",
       "    </tr>\n",
       "  </tbody>\n",
       "</table>\n",
       "</div>"
      ],
      "text/plain": [
       "                                             Name Platform  Year_of_Release  \\\n",
       "13683              Myth Makers: Trixie in Toyland      Wii             2008   \n",
       "9971                                Madden NFL 17      PS3             2016   \n",
       "5764                                   Happy Feet       DS             2006   \n",
       "13381  Billy the Wizard: Rocket Broomstick Racing      Wii             2007   \n",
       "10263           Charlie and the Chocolate Factory       XB             2005   \n",
       "\n",
       "           Genre  NA_sales  EU_sales  RU_sales  Other_sales  Critic_Score  \\\n",
       "13683   Platform      0.04      0.00       0.0         0.00          -1.0   \n",
       "9971      Sports      0.07      0.02       0.0         0.02          -1.0   \n",
       "5764      Action      0.27      0.01       0.0         0.02          -1.0   \n",
       "13381     Racing      0.04      0.00       0.0         0.00          -1.0   \n",
       "10263  Adventure      0.08      0.02       0.0         0.00          39.0   \n",
       "\n",
       "       User_Score Rating  Total_sales  \n",
       "13683         0.2      E         0.04  \n",
       "9971          0.2      E         0.11  \n",
       "5764          0.3      E         0.30  \n",
       "13381         0.3      E         0.04  \n",
       "10263         0.5      E         0.10  "
      ]
     },
     "execution_count": 101,
     "metadata": {},
     "output_type": "execute_result"
    }
   ],
   "source": [
    "games_df.query('User_Score > 0').sort_values(by = 'User_Score', ascending=True).head()"
   ]
  },
  {
   "cell_type": "code",
   "execution_count": 102,
   "metadata": {},
   "outputs": [
    {
     "data": {
      "text/html": [
       "<div>\n",
       "<style scoped>\n",
       "    .dataframe tbody tr th:only-of-type {\n",
       "        vertical-align: middle;\n",
       "    }\n",
       "\n",
       "    .dataframe tbody tr th {\n",
       "        vertical-align: top;\n",
       "    }\n",
       "\n",
       "    .dataframe thead th {\n",
       "        text-align: right;\n",
       "    }\n",
       "</style>\n",
       "<table border=\"1\" class=\"dataframe\">\n",
       "  <thead>\n",
       "    <tr style=\"text-align: right;\">\n",
       "      <th></th>\n",
       "      <th>Name</th>\n",
       "      <th>Platform</th>\n",
       "      <th>Year_of_Release</th>\n",
       "      <th>Genre</th>\n",
       "      <th>NA_sales</th>\n",
       "      <th>EU_sales</th>\n",
       "      <th>RU_sales</th>\n",
       "      <th>Other_sales</th>\n",
       "      <th>Critic_Score</th>\n",
       "      <th>User_Score</th>\n",
       "      <th>Rating</th>\n",
       "      <th>Total_sales</th>\n",
       "    </tr>\n",
       "  </thead>\n",
       "  <tbody>\n",
       "    <tr>\n",
       "      <th>5350</th>\n",
       "      <td>SoulCalibur</td>\n",
       "      <td>DC</td>\n",
       "      <td>1999</td>\n",
       "      <td>Fighting</td>\n",
       "      <td>0.00</td>\n",
       "      <td>0.00</td>\n",
       "      <td>0.34</td>\n",
       "      <td>0.00</td>\n",
       "      <td>98.0</td>\n",
       "      <td>8.8</td>\n",
       "      <td>T</td>\n",
       "      <td>0.34</td>\n",
       "    </tr>\n",
       "    <tr>\n",
       "      <th>227</th>\n",
       "      <td>Tony Hawk's Pro Skater 2</td>\n",
       "      <td>PS</td>\n",
       "      <td>2000</td>\n",
       "      <td>Sports</td>\n",
       "      <td>3.05</td>\n",
       "      <td>1.41</td>\n",
       "      <td>0.02</td>\n",
       "      <td>0.20</td>\n",
       "      <td>98.0</td>\n",
       "      <td>7.7</td>\n",
       "      <td>T</td>\n",
       "      <td>4.68</td>\n",
       "    </tr>\n",
       "    <tr>\n",
       "      <th>57</th>\n",
       "      <td>Grand Theft Auto IV</td>\n",
       "      <td>PS3</td>\n",
       "      <td>2008</td>\n",
       "      <td>Action</td>\n",
       "      <td>4.76</td>\n",
       "      <td>3.69</td>\n",
       "      <td>0.44</td>\n",
       "      <td>1.61</td>\n",
       "      <td>98.0</td>\n",
       "      <td>7.5</td>\n",
       "      <td>M</td>\n",
       "      <td>10.50</td>\n",
       "    </tr>\n",
       "    <tr>\n",
       "      <th>51</th>\n",
       "      <td>Grand Theft Auto IV</td>\n",
       "      <td>X360</td>\n",
       "      <td>2008</td>\n",
       "      <td>Action</td>\n",
       "      <td>6.76</td>\n",
       "      <td>3.07</td>\n",
       "      <td>0.14</td>\n",
       "      <td>1.03</td>\n",
       "      <td>98.0</td>\n",
       "      <td>7.9</td>\n",
       "      <td>M</td>\n",
       "      <td>11.00</td>\n",
       "    </tr>\n",
       "    <tr>\n",
       "      <th>16</th>\n",
       "      <td>Grand Theft Auto V</td>\n",
       "      <td>PS3</td>\n",
       "      <td>2013</td>\n",
       "      <td>Action</td>\n",
       "      <td>7.02</td>\n",
       "      <td>9.09</td>\n",
       "      <td>0.98</td>\n",
       "      <td>3.96</td>\n",
       "      <td>97.0</td>\n",
       "      <td>8.2</td>\n",
       "      <td>M</td>\n",
       "      <td>21.05</td>\n",
       "    </tr>\n",
       "  </tbody>\n",
       "</table>\n",
       "</div>"
      ],
      "text/plain": [
       "                          Name Platform  Year_of_Release     Genre  NA_sales  \\\n",
       "5350               SoulCalibur       DC             1999  Fighting      0.00   \n",
       "227   Tony Hawk's Pro Skater 2       PS             2000    Sports      3.05   \n",
       "57         Grand Theft Auto IV      PS3             2008    Action      4.76   \n",
       "51         Grand Theft Auto IV     X360             2008    Action      6.76   \n",
       "16          Grand Theft Auto V      PS3             2013    Action      7.02   \n",
       "\n",
       "      EU_sales  RU_sales  Other_sales  Critic_Score  User_Score Rating  \\\n",
       "5350      0.00      0.34         0.00          98.0         8.8      T   \n",
       "227       1.41      0.02         0.20          98.0         7.7      T   \n",
       "57        3.69      0.44         1.61          98.0         7.5      M   \n",
       "51        3.07      0.14         1.03          98.0         7.9      M   \n",
       "16        9.09      0.98         3.96          97.0         8.2      M   \n",
       "\n",
       "      Total_sales  \n",
       "5350         0.34  \n",
       "227          4.68  \n",
       "57          10.50  \n",
       "51          11.00  \n",
       "16          21.05  "
      ]
     },
     "execution_count": 102,
     "metadata": {},
     "output_type": "execute_result"
    }
   ],
   "source": [
    "games_df.sort_values(by = 'Critic_Score', ascending=False).head()"
   ]
  },
  {
   "cell_type": "code",
   "execution_count": 103,
   "metadata": {},
   "outputs": [
    {
     "data": {
      "text/html": [
       "<div>\n",
       "<style scoped>\n",
       "    .dataframe tbody tr th:only-of-type {\n",
       "        vertical-align: middle;\n",
       "    }\n",
       "\n",
       "    .dataframe tbody tr th {\n",
       "        vertical-align: top;\n",
       "    }\n",
       "\n",
       "    .dataframe thead th {\n",
       "        text-align: right;\n",
       "    }\n",
       "</style>\n",
       "<table border=\"1\" class=\"dataframe\">\n",
       "  <thead>\n",
       "    <tr style=\"text-align: right;\">\n",
       "      <th></th>\n",
       "      <th>Name</th>\n",
       "      <th>Platform</th>\n",
       "      <th>Year_of_Release</th>\n",
       "      <th>Genre</th>\n",
       "      <th>NA_sales</th>\n",
       "      <th>EU_sales</th>\n",
       "      <th>RU_sales</th>\n",
       "      <th>Other_sales</th>\n",
       "      <th>Critic_Score</th>\n",
       "      <th>User_Score</th>\n",
       "      <th>Rating</th>\n",
       "      <th>Total_sales</th>\n",
       "    </tr>\n",
       "  </thead>\n",
       "  <tbody>\n",
       "    <tr>\n",
       "      <th>13690</th>\n",
       "      <td>Ride to Hell</td>\n",
       "      <td>PS3</td>\n",
       "      <td>2013</td>\n",
       "      <td>Racing</td>\n",
       "      <td>0.02</td>\n",
       "      <td>0.01</td>\n",
       "      <td>0.0</td>\n",
       "      <td>0.01</td>\n",
       "      <td>13.0</td>\n",
       "      <td>1.0</td>\n",
       "      <td>M</td>\n",
       "      <td>0.04</td>\n",
       "    </tr>\n",
       "    <tr>\n",
       "      <th>10663</th>\n",
       "      <td>Leisure Suit Larry: Box Office Bust</td>\n",
       "      <td>PS3</td>\n",
       "      <td>2009</td>\n",
       "      <td>Adventure</td>\n",
       "      <td>0.06</td>\n",
       "      <td>0.03</td>\n",
       "      <td>0.0</td>\n",
       "      <td>0.01</td>\n",
       "      <td>17.0</td>\n",
       "      <td>1.7</td>\n",
       "      <td>M</td>\n",
       "      <td>0.10</td>\n",
       "    </tr>\n",
       "    <tr>\n",
       "      <th>12823</th>\n",
       "      <td>Ride to Hell</td>\n",
       "      <td>X360</td>\n",
       "      <td>2013</td>\n",
       "      <td>Racing</td>\n",
       "      <td>0.04</td>\n",
       "      <td>0.01</td>\n",
       "      <td>0.0</td>\n",
       "      <td>0.01</td>\n",
       "      <td>19.0</td>\n",
       "      <td>1.3</td>\n",
       "      <td>M</td>\n",
       "      <td>0.06</td>\n",
       "    </tr>\n",
       "    <tr>\n",
       "      <th>10016</th>\n",
       "      <td>Rugby 15</td>\n",
       "      <td>PS4</td>\n",
       "      <td>2015</td>\n",
       "      <td>Sports</td>\n",
       "      <td>0.04</td>\n",
       "      <td>0.06</td>\n",
       "      <td>0.0</td>\n",
       "      <td>0.02</td>\n",
       "      <td>19.0</td>\n",
       "      <td>3.4</td>\n",
       "      <td>E</td>\n",
       "      <td>0.12</td>\n",
       "    </tr>\n",
       "    <tr>\n",
       "      <th>15345</th>\n",
       "      <td>Balls of Fury</td>\n",
       "      <td>Wii</td>\n",
       "      <td>2007</td>\n",
       "      <td>Sports</td>\n",
       "      <td>0.02</td>\n",
       "      <td>0.00</td>\n",
       "      <td>0.0</td>\n",
       "      <td>0.00</td>\n",
       "      <td>19.0</td>\n",
       "      <td>2.8</td>\n",
       "      <td>E10+</td>\n",
       "      <td>0.02</td>\n",
       "    </tr>\n",
       "  </tbody>\n",
       "</table>\n",
       "</div>"
      ],
      "text/plain": [
       "                                      Name Platform  Year_of_Release  \\\n",
       "13690                         Ride to Hell      PS3             2013   \n",
       "10663  Leisure Suit Larry: Box Office Bust      PS3             2009   \n",
       "12823                         Ride to Hell     X360             2013   \n",
       "10016                             Rugby 15      PS4             2015   \n",
       "15345                        Balls of Fury      Wii             2007   \n",
       "\n",
       "           Genre  NA_sales  EU_sales  RU_sales  Other_sales  Critic_Score  \\\n",
       "13690     Racing      0.02      0.01       0.0         0.01          13.0   \n",
       "10663  Adventure      0.06      0.03       0.0         0.01          17.0   \n",
       "12823     Racing      0.04      0.01       0.0         0.01          19.0   \n",
       "10016     Sports      0.04      0.06       0.0         0.02          19.0   \n",
       "15345     Sports      0.02      0.00       0.0         0.00          19.0   \n",
       "\n",
       "       User_Score Rating  Total_sales  \n",
       "13690         1.0      M         0.04  \n",
       "10663         1.7      M         0.10  \n",
       "12823         1.3      M         0.06  \n",
       "10016         3.4      E         0.12  \n",
       "15345         2.8   E10+         0.02  "
      ]
     },
     "execution_count": 103,
     "metadata": {},
     "output_type": "execute_result"
    }
   ],
   "source": [
    "games_df.query('Critic_Score > 0').sort_values(by = 'Critic_Score', ascending=True).head()"
   ]
  },
  {
   "cell_type": "markdown",
   "metadata": {},
   "source": [
    "Видим, что лидеры пользователей и критиков разнятся. Есть ли корреляция между оценками пользователей и критиков?"
   ]
  },
  {
   "cell_type": "code",
   "execution_count": 104,
   "metadata": {},
   "outputs": [
    {
     "name": "stdout",
     "output_type": "stream",
     "text": [
      "0.8190127521775864\n"
     ]
    }
   ],
   "source": [
    "print(games_df ['Critic_Score'].corr(games_df ['User_Score']))"
   ]
  },
  {
   "cell_type": "code",
   "execution_count": 105,
   "metadata": {},
   "outputs": [
    {
     "name": "stdout",
     "output_type": "stream",
     "text": [
      "0.5808778320767236\n"
     ]
    }
   ],
   "source": [
    "games_with_scores = games_df.query('Critic_Score > 0 and User_Score > 0')\n",
    "print(games_with_scores ['Critic_Score'].corr(games_with_scores  ['User_Score']))"
   ]
  },
  {
   "cell_type": "markdown",
   "metadata": {},
   "source": [
    "Казалось, что существует весьма сильная положительная корреляция. Т.е. у игр с высокой оценкой критиков и оценка пользователей вероятно тоже будет высока.\n",
    "\n",
    "Однако, когда мы убрали игры без оценок, то коэффициент корреляции упал. Теперь можно сказать, что связь есть но не столь сильная. Значит, если критики поставили высокую оценку игре она имеет достаточно хорошие шансы понравиться пользователям, однако, это не гарантировано."
   ]
  },
  {
   "cell_type": "markdown",
   "metadata": {},
   "source": [
    "## Шаг 3. Анализ по регионам."
   ]
  },
  {
   "cell_type": "markdown",
   "metadata": {},
   "source": [
    "#### Северная Америка"
   ]
  },
  {
   "cell_type": "code",
   "execution_count": 106,
   "metadata": {},
   "outputs": [
    {
     "data": {
      "text/html": [
       "<div>\n",
       "<style scoped>\n",
       "    .dataframe tbody tr th:only-of-type {\n",
       "        vertical-align: middle;\n",
       "    }\n",
       "\n",
       "    .dataframe tbody tr th {\n",
       "        vertical-align: top;\n",
       "    }\n",
       "\n",
       "    .dataframe thead th {\n",
       "        text-align: right;\n",
       "    }\n",
       "</style>\n",
       "<table border=\"1\" class=\"dataframe\">\n",
       "  <thead>\n",
       "    <tr style=\"text-align: right;\">\n",
       "      <th></th>\n",
       "      <th>NA_sales</th>\n",
       "    </tr>\n",
       "    <tr>\n",
       "      <th>Genre</th>\n",
       "      <th></th>\n",
       "    </tr>\n",
       "  </thead>\n",
       "  <tbody>\n",
       "    <tr>\n",
       "      <th>Action</th>\n",
       "      <td>879.01</td>\n",
       "    </tr>\n",
       "    <tr>\n",
       "      <th>Sports</th>\n",
       "      <td>684.43</td>\n",
       "    </tr>\n",
       "    <tr>\n",
       "      <th>Shooter</th>\n",
       "      <td>592.24</td>\n",
       "    </tr>\n",
       "    <tr>\n",
       "      <th>Platform</th>\n",
       "      <td>445.50</td>\n",
       "    </tr>\n",
       "    <tr>\n",
       "      <th>Misc</th>\n",
       "      <td>407.27</td>\n",
       "    </tr>\n",
       "  </tbody>\n",
       "</table>\n",
       "</div>"
      ],
      "text/plain": [
       "          NA_sales\n",
       "Genre             \n",
       "Action      879.01\n",
       "Sports      684.43\n",
       "Shooter     592.24\n",
       "Platform    445.50\n",
       "Misc        407.27"
      ]
     },
     "execution_count": 106,
     "metadata": {},
     "output_type": "execute_result"
    }
   ],
   "source": [
    "players_by_genre_NA = games_df.pivot_table(index='Genre', values='NA_sales', aggfunc=np.sum) \n",
    "players_by_genre_NA.sort_values(by = 'NA_sales', ascending=False).head()"
   ]
  },
  {
   "cell_type": "code",
   "execution_count": 107,
   "metadata": {},
   "outputs": [
    {
     "data": {
      "text/plain": [
       "<matplotlib.axes._subplots.AxesSubplot at 0x7f0598554320>"
      ]
     },
     "execution_count": 107,
     "metadata": {},
     "output_type": "execute_result"
    },
    {
     "data": {
      "image/png": "[encoded data removed]",
      "text/plain": [
       "<Figure size 432x288 with 1 Axes>"
      ]
     },
     "metadata": {
      "needs_background": "light"
     },
     "output_type": "display_data"
    }
   ],
   "source": [
    "players_by_year_NA = games_by_year.pivot_table(index='Year_of_Release', values='NA_sales', aggfunc=np.sum) \n",
    "players_by_year_NA.plot()"
   ]
  },
  {
   "cell_type": "code",
   "execution_count": 108,
   "metadata": {},
   "outputs": [
    {
     "data": {
      "text/html": [
       "<div>\n",
       "<style scoped>\n",
       "    .dataframe tbody tr th:only-of-type {\n",
       "        vertical-align: middle;\n",
       "    }\n",
       "\n",
       "    .dataframe tbody tr th {\n",
       "        vertical-align: top;\n",
       "    }\n",
       "\n",
       "    .dataframe thead th {\n",
       "        text-align: right;\n",
       "    }\n",
       "</style>\n",
       "<table border=\"1\" class=\"dataframe\">\n",
       "  <thead>\n",
       "    <tr style=\"text-align: right;\">\n",
       "      <th></th>\n",
       "      <th>NA_sales</th>\n",
       "    </tr>\n",
       "    <tr>\n",
       "      <th>Platform</th>\n",
       "      <th></th>\n",
       "    </tr>\n",
       "  </thead>\n",
       "  <tbody>\n",
       "    <tr>\n",
       "      <th>X360</th>\n",
       "      <td>602.47</td>\n",
       "    </tr>\n",
       "    <tr>\n",
       "      <th>PS2</th>\n",
       "      <td>583.84</td>\n",
       "    </tr>\n",
       "    <tr>\n",
       "      <th>Wii</th>\n",
       "      <td>496.90</td>\n",
       "    </tr>\n",
       "    <tr>\n",
       "      <th>PS3</th>\n",
       "      <td>393.49</td>\n",
       "    </tr>\n",
       "    <tr>\n",
       "      <th>DS</th>\n",
       "      <td>382.67</td>\n",
       "    </tr>\n",
       "  </tbody>\n",
       "</table>\n",
       "</div>"
      ],
      "text/plain": [
       "          NA_sales\n",
       "Platform          \n",
       "X360        602.47\n",
       "PS2         583.84\n",
       "Wii         496.90\n",
       "PS3         393.49\n",
       "DS          382.67"
      ]
     },
     "execution_count": 108,
     "metadata": {},
     "output_type": "execute_result"
    }
   ],
   "source": [
    "players_by_platform_NA = games_df.pivot_table(index='Platform', values='NA_sales', aggfunc=np.sum) \n",
    "players_by_platform_NA.sort_values(by = 'NA_sales', ascending=False).head()"
   ]
  },
  {
   "cell_type": "markdown",
   "metadata": {},
   "source": [
    "#### Европа"
   ]
  },
  {
   "cell_type": "code",
   "execution_count": 109,
   "metadata": {},
   "outputs": [
    {
     "data": {
      "text/html": [
       "<div>\n",
       "<style scoped>\n",
       "    .dataframe tbody tr th:only-of-type {\n",
       "        vertical-align: middle;\n",
       "    }\n",
       "\n",
       "    .dataframe tbody tr th {\n",
       "        vertical-align: top;\n",
       "    }\n",
       "\n",
       "    .dataframe thead th {\n",
       "        text-align: right;\n",
       "    }\n",
       "</style>\n",
       "<table border=\"1\" class=\"dataframe\">\n",
       "  <thead>\n",
       "    <tr style=\"text-align: right;\">\n",
       "      <th></th>\n",
       "      <th>EU_sales</th>\n",
       "    </tr>\n",
       "    <tr>\n",
       "      <th>Genre</th>\n",
       "      <th></th>\n",
       "    </tr>\n",
       "  </thead>\n",
       "  <tbody>\n",
       "    <tr>\n",
       "      <th>Action</th>\n",
       "      <td>519.13</td>\n",
       "    </tr>\n",
       "    <tr>\n",
       "      <th>Sports</th>\n",
       "      <td>376.79</td>\n",
       "    </tr>\n",
       "    <tr>\n",
       "      <th>Shooter</th>\n",
       "      <td>317.34</td>\n",
       "    </tr>\n",
       "    <tr>\n",
       "      <th>Racing</th>\n",
       "      <td>236.51</td>\n",
       "    </tr>\n",
       "    <tr>\n",
       "      <th>Misc</th>\n",
       "      <td>212.74</td>\n",
       "    </tr>\n",
       "  </tbody>\n",
       "</table>\n",
       "</div>"
      ],
      "text/plain": [
       "         EU_sales\n",
       "Genre            \n",
       "Action     519.13\n",
       "Sports     376.79\n",
       "Shooter    317.34\n",
       "Racing     236.51\n",
       "Misc       212.74"
      ]
     },
     "execution_count": 109,
     "metadata": {},
     "output_type": "execute_result"
    }
   ],
   "source": [
    "players_by_genre_EU = games_df.pivot_table(index='Genre', values='EU_sales', aggfunc=np.sum) \n",
    "players_by_genre_EU.sort_values(by = 'EU_sales', ascending=False).head()"
   ]
  },
  {
   "cell_type": "code",
   "execution_count": 110,
   "metadata": {},
   "outputs": [
    {
     "data": {
      "text/plain": [
       "<matplotlib.axes._subplots.AxesSubplot at 0x7f05984f70b8>"
      ]
     },
     "execution_count": 110,
     "metadata": {},
     "output_type": "execute_result"
    },
    {
     "data": {
      "image/png": "[encoded data removed]",
      "text/plain": [
       "<Figure size 432x288 with 1 Axes>"
      ]
     },
     "metadata": {
      "needs_background": "light"
     },
     "output_type": "display_data"
    }
   ],
   "source": [
    "players_by_year_EU = games_by_year.pivot_table(index='Year_of_Release', values='EU_sales', aggfunc=np.sum) \n",
    "players_by_year_EU.plot()"
   ]
  },
  {
   "cell_type": "code",
   "execution_count": 111,
   "metadata": {},
   "outputs": [
    {
     "data": {
      "text/html": [
       "<div>\n",
       "<style scoped>\n",
       "    .dataframe tbody tr th:only-of-type {\n",
       "        vertical-align: middle;\n",
       "    }\n",
       "\n",
       "    .dataframe tbody tr th {\n",
       "        vertical-align: top;\n",
       "    }\n",
       "\n",
       "    .dataframe thead th {\n",
       "        text-align: right;\n",
       "    }\n",
       "</style>\n",
       "<table border=\"1\" class=\"dataframe\">\n",
       "  <thead>\n",
       "    <tr style=\"text-align: right;\">\n",
       "      <th></th>\n",
       "      <th>EU_sales</th>\n",
       "    </tr>\n",
       "    <tr>\n",
       "      <th>Platform</th>\n",
       "      <th></th>\n",
       "    </tr>\n",
       "  </thead>\n",
       "  <tbody>\n",
       "    <tr>\n",
       "      <th>PS2</th>\n",
       "      <td>339.29</td>\n",
       "    </tr>\n",
       "    <tr>\n",
       "      <th>PS3</th>\n",
       "      <td>330.29</td>\n",
       "    </tr>\n",
       "    <tr>\n",
       "      <th>X360</th>\n",
       "      <td>270.76</td>\n",
       "    </tr>\n",
       "    <tr>\n",
       "      <th>Wii</th>\n",
       "      <td>262.21</td>\n",
       "    </tr>\n",
       "    <tr>\n",
       "      <th>PS</th>\n",
       "      <td>213.61</td>\n",
       "    </tr>\n",
       "  </tbody>\n",
       "</table>\n",
       "</div>"
      ],
      "text/plain": [
       "          EU_sales\n",
       "Platform          \n",
       "PS2         339.29\n",
       "PS3         330.29\n",
       "X360        270.76\n",
       "Wii         262.21\n",
       "PS          213.61"
      ]
     },
     "execution_count": 111,
     "metadata": {},
     "output_type": "execute_result"
    }
   ],
   "source": [
    "players_by_platform_EU = games_df.pivot_table(index='Platform', values='EU_sales', aggfunc=np.sum) \n",
    "players_by_platform_EU.sort_values(by = 'EU_sales', ascending=False).head()"
   ]
  },
  {
   "cell_type": "markdown",
   "metadata": {},
   "source": [
    "#### Россия"
   ]
  },
  {
   "cell_type": "code",
   "execution_count": 112,
   "metadata": {},
   "outputs": [
    {
     "data": {
      "text/html": [
       "<div>\n",
       "<style scoped>\n",
       "    .dataframe tbody tr th:only-of-type {\n",
       "        vertical-align: middle;\n",
       "    }\n",
       "\n",
       "    .dataframe tbody tr th {\n",
       "        vertical-align: top;\n",
       "    }\n",
       "\n",
       "    .dataframe thead th {\n",
       "        text-align: right;\n",
       "    }\n",
       "</style>\n",
       "<table border=\"1\" class=\"dataframe\">\n",
       "  <thead>\n",
       "    <tr style=\"text-align: right;\">\n",
       "      <th></th>\n",
       "      <th>RU_sales</th>\n",
       "    </tr>\n",
       "    <tr>\n",
       "      <th>Genre</th>\n",
       "      <th></th>\n",
       "    </tr>\n",
       "  </thead>\n",
       "  <tbody>\n",
       "    <tr>\n",
       "      <th>Role-Playing</th>\n",
       "      <td>355.46</td>\n",
       "    </tr>\n",
       "    <tr>\n",
       "      <th>Action</th>\n",
       "      <td>161.44</td>\n",
       "    </tr>\n",
       "    <tr>\n",
       "      <th>Sports</th>\n",
       "      <td>135.54</td>\n",
       "    </tr>\n",
       "    <tr>\n",
       "      <th>Platform</th>\n",
       "      <td>130.83</td>\n",
       "    </tr>\n",
       "    <tr>\n",
       "      <th>Misc</th>\n",
       "      <td>108.11</td>\n",
       "    </tr>\n",
       "  </tbody>\n",
       "</table>\n",
       "</div>"
      ],
      "text/plain": [
       "              RU_sales\n",
       "Genre                 \n",
       "Role-Playing    355.46\n",
       "Action          161.44\n",
       "Sports          135.54\n",
       "Platform        130.83\n",
       "Misc            108.11"
      ]
     },
     "execution_count": 112,
     "metadata": {},
     "output_type": "execute_result"
    }
   ],
   "source": [
    "players_by_genre_RU = games_df.pivot_table(index='Genre', values='RU_sales', aggfunc=np.sum) \n",
    "players_by_genre_RU.sort_values(by = 'RU_sales', ascending=False).head()"
   ]
  },
  {
   "cell_type": "code",
   "execution_count": 113,
   "metadata": {},
   "outputs": [
    {
     "data": {
      "text/plain": [
       "<matplotlib.axes._subplots.AxesSubplot at 0x7f0598456cf8>"
      ]
     },
     "execution_count": 113,
     "metadata": {},
     "output_type": "execute_result"
    },
    {
     "data": {
      "image/png": "[encoded data removed]",
      "text/plain": [
       "<Figure size 432x288 with 1 Axes>"
      ]
     },
     "metadata": {
      "needs_background": "light"
     },
     "output_type": "display_data"
    }
   ],
   "source": [
    "players_by_year_RU = games_by_year.pivot_table(index='Year_of_Release', values='RU_sales', aggfunc=np.sum) \n",
    "players_by_year_RU.plot()"
   ]
  },
  {
   "cell_type": "code",
   "execution_count": 114,
   "metadata": {},
   "outputs": [
    {
     "data": {
      "text/html": [
       "<div>\n",
       "<style scoped>\n",
       "    .dataframe tbody tr th:only-of-type {\n",
       "        vertical-align: middle;\n",
       "    }\n",
       "\n",
       "    .dataframe tbody tr th {\n",
       "        vertical-align: top;\n",
       "    }\n",
       "\n",
       "    .dataframe thead th {\n",
       "        text-align: right;\n",
       "    }\n",
       "</style>\n",
       "<table border=\"1\" class=\"dataframe\">\n",
       "  <thead>\n",
       "    <tr style=\"text-align: right;\">\n",
       "      <th></th>\n",
       "      <th>RU_sales</th>\n",
       "    </tr>\n",
       "    <tr>\n",
       "      <th>Platform</th>\n",
       "      <th></th>\n",
       "    </tr>\n",
       "  </thead>\n",
       "  <tbody>\n",
       "    <tr>\n",
       "      <th>DS</th>\n",
       "      <td>175.57</td>\n",
       "    </tr>\n",
       "    <tr>\n",
       "      <th>PS</th>\n",
       "      <td>139.82</td>\n",
       "    </tr>\n",
       "    <tr>\n",
       "      <th>PS2</th>\n",
       "      <td>139.20</td>\n",
       "    </tr>\n",
       "    <tr>\n",
       "      <th>SNES</th>\n",
       "      <td>116.55</td>\n",
       "    </tr>\n",
       "    <tr>\n",
       "      <th>3DS</th>\n",
       "      <td>100.67</td>\n",
       "    </tr>\n",
       "  </tbody>\n",
       "</table>\n",
       "</div>"
      ],
      "text/plain": [
       "          RU_sales\n",
       "Platform          \n",
       "DS          175.57\n",
       "PS          139.82\n",
       "PS2         139.20\n",
       "SNES        116.55\n",
       "3DS         100.67"
      ]
     },
     "execution_count": 114,
     "metadata": {},
     "output_type": "execute_result"
    }
   ],
   "source": [
    "players_by_platform_RU = games_df.pivot_table(index='Platform', values='RU_sales', aggfunc=np.sum) \n",
    "players_by_platform_RU.sort_values(by = 'RU_sales', ascending=False).head()"
   ]
  },
  {
   "cell_type": "markdown",
   "metadata": {},
   "source": [
    "Здесь видно, что европейский и американский рынки очень схожи: и лидирующие жанры и график продаж практически идентичны, небольшие различия есть только в предпочитаемых платформах (в Америке лидирует XBOX, в то время как в Европе  - PS). Одновременно с этим, на Российским ранке ситуация сильно отличается. \n",
    "\n",
    "Таким образом, если мы ориентируемся на внутренний рынок, то стоит рассмотреть жанр RPG и платформу Nintendo, а если рассмотриваем глобальные рынки, то предпочтительным будет Action и платформы XBOX и PlayStation."
   ]
  },
  {
   "cell_type": "code",
   "execution_count": 115,
   "metadata": {},
   "outputs": [
    {
     "data": {
      "text/plain": [
       "RP      6772\n",
       "E       3991\n",
       "T       2961\n",
       "M       1563\n",
       "E10+    1420\n",
       "EC         8\n",
       "K-A        3\n",
       "AO         1\n",
       "Name: Rating, dtype: int64"
      ]
     },
     "execution_count": 115,
     "metadata": {},
     "output_type": "execute_result"
    }
   ],
   "source": [
    "games_df['Rating'].value_counts()"
   ]
  },
  {
   "cell_type": "markdown",
   "metadata": {},
   "source": [
    "Больше всего игр с рейтингом - это игры без ограничений (Для всех) и для подростков 13-19 лет. Что ж целевая аудитория вполне понятна..."
   ]
  },
  {
   "cell_type": "markdown",
   "metadata": {},
   "source": [
    "## Шаг 4. Проверка гипотез."
   ]
  },
  {
   "cell_type": "markdown",
   "metadata": {},
   "source": [
    "#### Первая гипотеза. Средний пользовательский рейтинг платформ PS2 и PS3 одинаковый."
   ]
  },
  {
   "cell_type": "markdown",
   "metadata": {},
   "source": [
    "Обозначим среднии пользовательский рейтинг М2 и М3 соответственно, тогда:\n",
    "\n",
    "нулевая гипотеза Н0: М2=М3\n",
    "\n",
    "альтернативная гипотеза На: М2!=М3 (двухсторонняя альтернатива)"
   ]
  },
  {
   "cell_type": "code",
   "execution_count": 116,
   "metadata": {},
   "outputs": [
    {
     "name": "stdout",
     "output_type": "stream",
     "text": [
      "p-значение:  1.5742610791426753e-47\n",
      "Отвергаем нулевую гипотезу\n"
     ]
    }
   ],
   "source": [
    "from scipy import stats as st\n",
    "# выделим пользовательский рейтинг для PS2 и PS 3\n",
    "ps2_users_score = games_df.query('User_Score > 0 and Platform == \"PS2\"')['User_Score']\n",
    "ps3_users_score = games_df.query('User_Score > 0 and Platform == \"PS3\"')['User_Score']\n",
    "\n",
    "# установим уровень значимости\n",
    "alpha = .05\n",
    "\n",
    "# выборки независимые, поэтому\n",
    "hipotest = st.ttest_ind(\n",
    "    ps2_users_score , \n",
    "    ps3_users_score)\n",
    "\n",
    "print('p-значение: ', hipotest.pvalue)\n",
    "\n",
    "if (hipotest.pvalue < alpha):\n",
    "    print(\"Отвергаем нулевую гипотезу\")\n",
    "else:\n",
    "    print(\"Не получилось отвергнуть нулевую гипотезу\")"
   ]
  },
  {
   "cell_type": "markdown",
   "metadata": {},
   "source": [
    "#### Вторая гипотеза. Средний пользовательский рейтинг жанров Action и Sports различается."
   ]
  },
  {
   "cell_type": "markdown",
   "metadata": {},
   "source": [
    "Обозначим среднии пользовательский рейтинг МA и МS соответственно, тогда:\n",
    "\n",
    "нулевая гипотеза Н0: МA=МS\n",
    "\n",
    "альтернативная гипотеза На: МA!=МS (двухсторонняя альтернатива)"
   ]
  },
  {
   "cell_type": "code",
   "execution_count": 117,
   "metadata": {
    "scrolled": true
   },
   "outputs": [
    {
     "name": "stdout",
     "output_type": "stream",
     "text": [
      "p-значение:  0.10406951359049141\n",
      "Не получилось отвергнуть нулевую гипотезу\n"
     ]
    }
   ],
   "source": [
    "# выделим пользовательский рейтинг для PS2 и PS 3\n",
    "action_users_score = games_df.query('User_Score > 0 and Genre == \"Action\"')['User_Score']\n",
    "sports_users_score = games_df.query('User_Score > 0 and Genre == \"Sports\"')['User_Score']\n",
    "\n",
    "# установим уровень значимости\n",
    "alpha = .05\n",
    "\n",
    "# выборки независимые, поэтому\n",
    "hipotest = st.ttest_ind(\n",
    "    action_users_score , \n",
    "    sports_users_score)\n",
    "\n",
    "print('p-значение: ', hipotest.pvalue)\n",
    "\n",
    "if (hipotest.pvalue < alpha):\n",
    "    print(\"Отвергаем нулевую гипотезу\")\n",
    "else:\n",
    "    print(\"Не получилось отвергнуть нулевую гипотезу\")"
   ]
  },
  {
   "cell_type": "markdown",
   "metadata": {},
   "source": [
    "# Выводы"
   ]
  },
  {
   "cell_type": "markdown",
   "metadata": {},
   "source": [
    "- рынок консольных игр переживает крисив - выпуск игр упал с рекордных показателей 2008-2009 годов (более 1400 игр в год), до значения менее 500 игр в прошлом году. Одновременно с этим упали и продажи  - от почти 672 млн. долларов в 2008, до 130 млн. в 2016.\n",
    "\n",
    "- выпуск консольных игр - рискованный проект. Только 13% игр приносят ощутимую прибыль, при этом 36% не окупаются.\n",
    "\n",
    "- cамыми популярными жанрами по всему миру являются Action, Sport и Shooter, российский рынок при этом уникальный и самыми опулярными являются RPG.\n",
    "\n",
    "- больше всего игр с рейтингом - это игры без ограничений (Для всех) и для подростков 13-19 лет. Т.е. игра должна быть нацелена либо на массового пользователя, либо на подростковую аудиторию - остальное нишевый продукт.\n",
    "\n",
    "- существует прямая зависимость между оценкой критиков и оценкой пользователей, однако, она не слишком сильная. (r = 0.58)\n",
    "\n",
    "-  пользовательский рейтинг игр на PS2 в среднем выше, чем игр PS3.\n",
    "\n",
    "-  нельзя сказать, что средний пользовательский рейтинг у популярных жанров Action и Sports отличается."
   ]
  }
 ],
 "metadata": {
  "kernelspec": {
   "display_name": "Python 3",
   "language": "python",
   "name": "python3"
  },
  "language_info": {
   "codemirror_mode": {
    "name": "ipython",
    "version": 3
   },
   "file_extension": ".py",
   "mimetype": "text/x-python",
   "name": "python",
   "nbconvert_exporter": "python",
   "pygments_lexer": "ipython3",
   "version": "3.7.3"
  }
 },
 "nbformat": 4,
 "nbformat_minor": 2
}

{
 "cells": [
  {
   "cell_type": "markdown",
   "metadata": {},
   "source": [
    "# Определение перспективного тарифа для телеком компании\n",
    "\n",
    "Телеком компания предлагает клиентам два тарифных плана: «Смарт» и «Ультра». Чтобы скорректировать рекламный бюджет, коммерческий департамент хочет понять, какой тариф приносит больше денег.\n",
    "\n",
    "Нам предстоит сделать предварительный анализ тарифов на небольшой выборке клиентов. В нашем распоряжении данные 500 пользователей «Мегалайна»: кто они, откуда, каким тарифом пользуются, сколько звонков и сообщений каждый отправил за 2018 год. Нужно проанализировать поведение клиентов и сделать вывод — какой тариф лучше."
   ]
  },
  {
   "cell_type": "code",
   "execution_count": 1,
   "metadata": {},
   "outputs": [],
   "source": [
    "import pandas as pd\n",
    "import numpy as np"
   ]
  },
  {
   "cell_type": "code",
   "execution_count": 12,
   "metadata": {},
   "outputs": [],
   "source": [
    "# импортируем таблички с данными\n",
    "calls = pd.read_csv('calls.csv')\n",
    "internet = pd.read_csv('internet.csv')\n",
    "messages = pd.read_csv('messages.csv')\n",
    "tariffs = pd.read_csv('tariffs.csv')\n",
    "users = pd.read_csv('users.csv')\n",
    "\n",
    "calls = calls.drop(columns=['Unnamed: 0'])\n",
    "internet = internet.drop(columns=['Unnamed: 0'])\n",
    "messages = messages.drop(columns=['Unnamed: 0'])\n",
    "tariffs = tariffs.drop(columns=['Unnamed: 0'])\n",
    "users = users.drop(columns=['Unnamed: 0'])"
   ]
  },
  {
   "cell_type": "code",
   "execution_count": 13,
   "metadata": {},
   "outputs": [
    {
     "name": "stdout",
     "output_type": "stream",
     "text": [
      "<class 'pandas.core.frame.DataFrame'>\n",
      "RangeIndex: 202607 entries, 0 to 202606\n",
      "Data columns (total 4 columns):\n",
      "id           202607 non-null object\n",
      "call_date    202607 non-null object\n",
      "duration     202607 non-null float64\n",
      "user_id      202607 non-null int64\n",
      "dtypes: float64(1), int64(1), object(2)\n",
      "memory usage: 6.2+ MB\n"
     ]
    }
   ],
   "source": [
    "#посмотрим общую инфу по всем табличкам (по очереди)\n",
    "calls.info()"
   ]
  },
  {
   "cell_type": "markdown",
   "metadata": {},
   "source": [
    "Мы убедились что в таблицах со звонками, сообщениями и интернетом нет пропусков ( всего  202607 звонков, 149396 интернет сессий и 123036 сообщений). В данных с тарифами тоже нет пропущенных значений. В таблице с пользователями есть отсутствующие данные в колонки churn-date (т.е. дата отказа пользователя от услег/тарифа). Оставим пока, не будем заполнять, скорее всего, этот столбец не будем использоваться.\n",
    "Единственное, что надо сделать это превести дааты в нужный формат, а фактически из низ надло вытянуть месяц."
   ]
  },
  {
   "cell_type": "code",
   "execution_count": 14,
   "metadata": {},
   "outputs": [
    {
     "data": {
      "text/plain": [
       "id           39613\n",
       "call_date    39613\n",
       "duration     39613\n",
       "user_id      39613\n",
       "dtype: int64"
      ]
     },
     "execution_count": 14,
     "metadata": {},
     "output_type": "execute_result"
    }
   ],
   "source": [
    "#посмотрим на описание всех табличек (по очереди)\n",
    "calls.describe()\n",
    "\n",
    "calls.query('duration == 0').count()"
   ]
  },
  {
   "cell_type": "markdown",
   "metadata": {},
   "source": [
    "Больших выбросов в данных нет:\n",
    "- звонки длятся от 0 до 38 мин (средний 6,76 минут)\n",
    "- трафика тратится от 0 до 1724 мбайт за сессию (среднее 370 мбайт)\n",
    "\n",
    "Однако очень много звонков с длительностью 0. Около 20%. Исключим их из рассмотрения. Они не дадут никакого вклада в оценку затрат пользователя, однако могут плохо сказаться на определении средних величин, например, средней продолжительности звонка."
   ]
  },
  {
   "cell_type": "code",
   "execution_count": 15,
   "metadata": {},
   "outputs": [],
   "source": [
    "calls = calls.query('duration > 0')"
   ]
  },
  {
   "cell_type": "markdown",
   "metadata": {},
   "source": [
    "## Собираем рабочую таблицу\n",
    "\n",
    "Таблица для дальнейшего анализа должна содержать следующее:\n",
    "- идентификатор пользователя\n",
    "- название тарифного плана\n",
    "- город\n",
    "- месяц\n",
    "- количество минут\n",
    "- количество смс\n",
    "- количество мегабайт интернета"
   ]
  },
  {
   "cell_type": "code",
   "execution_count": 16,
   "metadata": {},
   "outputs": [],
   "source": [
    "calls['month'] = pd.DatetimeIndex(pd.to_datetime(calls['call_date'], format='%Y-%m-%d')).month\n",
    "messages['month'] = pd.DatetimeIndex(pd.to_datetime(messages['message_date'], format='%Y-%m-%d')).month\n",
    "internet['month'] = pd.DatetimeIndex(pd.to_datetime(internet['session_date'], format='%Y-%m-%d')).month\n",
    "\n",
    "\n",
    "df_users = users.drop(['first_name', 'last_name', 'age', 'reg_date', 'churn_date'], axis=1)\n",
    "\n",
    "pivot_calls =  pd.DataFrame(pd.pivot_table(calls, values='duration', index=['user_id', 'month'],  aggfunc=np.sum).to_records())\n",
    "pivot_messages = pd.pivot_table(messages, values='id', index=['user_id', 'month'], aggfunc='count')\n",
    "pivot_messages.columns = ['message_count']\n",
    "pivot_messages = pd.DataFrame(pivot_messages.to_records())\n",
    "pivot_internet = pd.DataFrame(pd.pivot_table(internet, values='mb_used', index=['user_id', 'month'], aggfunc=np.sum).to_records())"
   ]
  },
  {
   "cell_type": "code",
   "execution_count": 17,
   "metadata": {
    "scrolled": true
   },
   "outputs": [
    {
     "data": {
      "text/html": [
       "<div>\n",
       "<style scoped>\n",
       "    .dataframe tbody tr th:only-of-type {\n",
       "        vertical-align: middle;\n",
       "    }\n",
       "\n",
       "    .dataframe tbody tr th {\n",
       "        vertical-align: top;\n",
       "    }\n",
       "\n",
       "    .dataframe thead th {\n",
       "        text-align: right;\n",
       "    }\n",
       "</style>\n",
       "<table border=\"1\" class=\"dataframe\">\n",
       "  <thead>\n",
       "    <tr style=\"text-align: right;\">\n",
       "      <th></th>\n",
       "      <th>user_id</th>\n",
       "      <th>city</th>\n",
       "      <th>tariff</th>\n",
       "      <th>month</th>\n",
       "      <th>duration</th>\n",
       "      <th>message_count</th>\n",
       "      <th>mb_used</th>\n",
       "    </tr>\n",
       "  </thead>\n",
       "  <tbody>\n",
       "    <tr>\n",
       "      <th>0</th>\n",
       "      <td>1000</td>\n",
       "      <td>Краснодар</td>\n",
       "      <td>ultra</td>\n",
       "      <td>5</td>\n",
       "      <td>150.06</td>\n",
       "      <td>22</td>\n",
       "      <td>2253.49</td>\n",
       "    </tr>\n",
       "    <tr>\n",
       "      <th>1</th>\n",
       "      <td>1000</td>\n",
       "      <td>Краснодар</td>\n",
       "      <td>ultra</td>\n",
       "      <td>6</td>\n",
       "      <td>158.90</td>\n",
       "      <td>60</td>\n",
       "      <td>23233.77</td>\n",
       "    </tr>\n",
       "    <tr>\n",
       "      <th>2</th>\n",
       "      <td>1000</td>\n",
       "      <td>Краснодар</td>\n",
       "      <td>ultra</td>\n",
       "      <td>7</td>\n",
       "      <td>318.80</td>\n",
       "      <td>75</td>\n",
       "      <td>14003.64</td>\n",
       "    </tr>\n",
       "    <tr>\n",
       "      <th>3</th>\n",
       "      <td>1000</td>\n",
       "      <td>Краснодар</td>\n",
       "      <td>ultra</td>\n",
       "      <td>8</td>\n",
       "      <td>389.87</td>\n",
       "      <td>81</td>\n",
       "      <td>14055.93</td>\n",
       "    </tr>\n",
       "    <tr>\n",
       "      <th>4</th>\n",
       "      <td>1000</td>\n",
       "      <td>Краснодар</td>\n",
       "      <td>ultra</td>\n",
       "      <td>9</td>\n",
       "      <td>440.14</td>\n",
       "      <td>57</td>\n",
       "      <td>14568.91</td>\n",
       "    </tr>\n",
       "  </tbody>\n",
       "</table>\n",
       "</div>"
      ],
      "text/plain": [
       "   user_id       city tariff  month  duration  message_count   mb_used\n",
       "0     1000  Краснодар  ultra      5    150.06             22   2253.49\n",
       "1     1000  Краснодар  ultra      6    158.90             60  23233.77\n",
       "2     1000  Краснодар  ultra      7    318.80             75  14003.64\n",
       "3     1000  Краснодар  ultra      8    389.87             81  14055.93\n",
       "4     1000  Краснодар  ultra      9    440.14             57  14568.91"
      ]
     },
     "execution_count": 17,
     "metadata": {},
     "output_type": "execute_result"
    }
   ],
   "source": [
    "result_calls = pd.merge(df_users, pivot_calls, on='user_id', how='outer')\n",
    "result_calls['month'] = result_calls['month'].fillna(-1) # заполняем отсутствующие месяца условным обозначением -1\n",
    "result_calls['duration'] = result_calls['duration'].fillna(0) # если нет данных то звонков 0\n",
    "result_calls['month'] = result_calls['month'].astype('int64')\n",
    "\n",
    "result_messages = pd.merge(df_users, pivot_messages, on='user_id', how='outer')\n",
    "result_messages['month'] = result_messages['month'].fillna(-1) # заполняем отсутствующие месяца условным обозначением -1\n",
    "result_messages['message_count'] = result_messages['message_count'].fillna(0) # если нет данных то сообщений 0\n",
    "result_messages['month'] = result_messages['month'].astype('int64')\n",
    "result_messages['message_count'] = result_messages['message_count'].astype('int64')\n",
    "\n",
    "result_internet = pd.merge(df_users, pivot_internet, on='user_id', how='outer')\n",
    "result_internet['month'] = result_internet['month'].fillna(-1) # заполняем отсутствующие месяца условным обозначением -1\n",
    "result_internet['mb_used'] = result_internet['mb_used'].fillna(0) # если нет данных то интернета потрачено 0\n",
    "result_internet['month'] = result_internet['month'].astype('int64')\n",
    "\n",
    "result = pd.merge(pd.merge(result_calls, result_messages, on=['user_id', 'city', 'tariff', 'month'], how='outer'), result_internet, on=['user_id', 'city', 'tariff', 'month'], how='outer')\n",
    "result['duration'] = result['duration'].fillna(0)\n",
    "result['message_count'] = result['message_count'].fillna(0)\n",
    "result['mb_used'] = result['mb_used'].fillna(0)\n",
    "result['message_count'] = result['message_count'].astype('int64')\n",
    "result = result.query('month != -1') # уберем данные с месяцем -1\n",
    "result.head()"
   ]
  },
  {
   "cell_type": "markdown",
   "metadata": {},
   "source": [
    "Теперь мы видим сколько каждый пользователь использовал минут смс и интернета в месяц, можем посчитать затраты каждого пользователя."
   ]
  },
  {
   "cell_type": "markdown",
   "metadata": {},
   "source": [
    "## Считаем сколько потратил каждый пользователь"
   ]
  },
  {
   "cell_type": "code",
   "execution_count": 23,
   "metadata": {},
   "outputs": [
    {
     "data": {
      "text/html": [
       "<div>\n",
       "<style scoped>\n",
       "    .dataframe tbody tr th:only-of-type {\n",
       "        vertical-align: middle;\n",
       "    }\n",
       "\n",
       "    .dataframe tbody tr th {\n",
       "        vertical-align: top;\n",
       "    }\n",
       "\n",
       "    .dataframe thead th {\n",
       "        text-align: right;\n",
       "    }\n",
       "</style>\n",
       "<table border=\"1\" class=\"dataframe\">\n",
       "  <thead>\n",
       "    <tr style=\"text-align: right;\">\n",
       "      <th></th>\n",
       "      <th>user_id</th>\n",
       "      <th>city</th>\n",
       "      <th>tariff</th>\n",
       "      <th>month</th>\n",
       "      <th>duration</th>\n",
       "      <th>message_count</th>\n",
       "      <th>mb_used</th>\n",
       "      <th>messages_included</th>\n",
       "      <th>mg_per_month_included</th>\n",
       "      <th>minutes_included</th>\n",
       "      <th>rub_monthly_fee</th>\n",
       "      <th>rub_per_gb</th>\n",
       "      <th>rub_per_message</th>\n",
       "      <th>rub_per_minute</th>\n",
       "      <th>minutes_paid</th>\n",
       "      <th>calls_costs</th>\n",
       "      <th>messages_paid</th>\n",
       "      <th>messages_costs</th>\n",
       "      <th>mb_paid</th>\n",
       "      <th>internet_costs</th>\n",
       "    </tr>\n",
       "  </thead>\n",
       "  <tbody>\n",
       "    <tr>\n",
       "      <th>0</th>\n",
       "      <td>1000</td>\n",
       "      <td>Краснодар</td>\n",
       "      <td>ultra</td>\n",
       "      <td>5</td>\n",
       "      <td>150.06</td>\n",
       "      <td>22</td>\n",
       "      <td>2253.49</td>\n",
       "      <td>1000</td>\n",
       "      <td>30720</td>\n",
       "      <td>3000</td>\n",
       "      <td>1950</td>\n",
       "      <td>150</td>\n",
       "      <td>1</td>\n",
       "      <td>1</td>\n",
       "      <td>0</td>\n",
       "      <td>0</td>\n",
       "      <td>0</td>\n",
       "      <td>0</td>\n",
       "      <td>0</td>\n",
       "      <td>0</td>\n",
       "    </tr>\n",
       "    <tr>\n",
       "      <th>1</th>\n",
       "      <td>1000</td>\n",
       "      <td>Краснодар</td>\n",
       "      <td>ultra</td>\n",
       "      <td>6</td>\n",
       "      <td>158.90</td>\n",
       "      <td>60</td>\n",
       "      <td>23233.77</td>\n",
       "      <td>1000</td>\n",
       "      <td>30720</td>\n",
       "      <td>3000</td>\n",
       "      <td>1950</td>\n",
       "      <td>150</td>\n",
       "      <td>1</td>\n",
       "      <td>1</td>\n",
       "      <td>0</td>\n",
       "      <td>0</td>\n",
       "      <td>0</td>\n",
       "      <td>0</td>\n",
       "      <td>0</td>\n",
       "      <td>0</td>\n",
       "    </tr>\n",
       "    <tr>\n",
       "      <th>2</th>\n",
       "      <td>1000</td>\n",
       "      <td>Краснодар</td>\n",
       "      <td>ultra</td>\n",
       "      <td>7</td>\n",
       "      <td>318.80</td>\n",
       "      <td>75</td>\n",
       "      <td>14003.64</td>\n",
       "      <td>1000</td>\n",
       "      <td>30720</td>\n",
       "      <td>3000</td>\n",
       "      <td>1950</td>\n",
       "      <td>150</td>\n",
       "      <td>1</td>\n",
       "      <td>1</td>\n",
       "      <td>0</td>\n",
       "      <td>0</td>\n",
       "      <td>0</td>\n",
       "      <td>0</td>\n",
       "      <td>0</td>\n",
       "      <td>0</td>\n",
       "    </tr>\n",
       "    <tr>\n",
       "      <th>3</th>\n",
       "      <td>1000</td>\n",
       "      <td>Краснодар</td>\n",
       "      <td>ultra</td>\n",
       "      <td>8</td>\n",
       "      <td>389.87</td>\n",
       "      <td>81</td>\n",
       "      <td>14055.93</td>\n",
       "      <td>1000</td>\n",
       "      <td>30720</td>\n",
       "      <td>3000</td>\n",
       "      <td>1950</td>\n",
       "      <td>150</td>\n",
       "      <td>1</td>\n",
       "      <td>1</td>\n",
       "      <td>0</td>\n",
       "      <td>0</td>\n",
       "      <td>0</td>\n",
       "      <td>0</td>\n",
       "      <td>0</td>\n",
       "      <td>0</td>\n",
       "    </tr>\n",
       "    <tr>\n",
       "      <th>4</th>\n",
       "      <td>1000</td>\n",
       "      <td>Краснодар</td>\n",
       "      <td>ultra</td>\n",
       "      <td>9</td>\n",
       "      <td>440.14</td>\n",
       "      <td>57</td>\n",
       "      <td>14568.91</td>\n",
       "      <td>1000</td>\n",
       "      <td>30720</td>\n",
       "      <td>3000</td>\n",
       "      <td>1950</td>\n",
       "      <td>150</td>\n",
       "      <td>1</td>\n",
       "      <td>1</td>\n",
       "      <td>0</td>\n",
       "      <td>0</td>\n",
       "      <td>0</td>\n",
       "      <td>0</td>\n",
       "      <td>0</td>\n",
       "      <td>0</td>\n",
       "    </tr>\n",
       "  </tbody>\n",
       "</table>\n",
       "</div>"
      ],
      "text/plain": [
       "   user_id       city tariff  month  duration  message_count   mb_used  \\\n",
       "0     1000  Краснодар  ultra      5    150.06             22   2253.49   \n",
       "1     1000  Краснодар  ultra      6    158.90             60  23233.77   \n",
       "2     1000  Краснодар  ultra      7    318.80             75  14003.64   \n",
       "3     1000  Краснодар  ultra      8    389.87             81  14055.93   \n",
       "4     1000  Краснодар  ultra      9    440.14             57  14568.91   \n",
       "\n",
       "   messages_included  mg_per_month_included  minutes_included  \\\n",
       "0               1000                  30720              3000   \n",
       "1               1000                  30720              3000   \n",
       "2               1000                  30720              3000   \n",
       "3               1000                  30720              3000   \n",
       "4               1000                  30720              3000   \n",
       "\n",
       "   rub_monthly_fee  rub_per_gb  rub_per_message  rub_per_minute  minutes_paid  \\\n",
       "0             1950         150                1               1             0   \n",
       "1             1950         150                1               1             0   \n",
       "2             1950         150                1               1             0   \n",
       "3             1950         150                1               1             0   \n",
       "4             1950         150                1               1             0   \n",
       "\n",
       "   calls_costs  messages_paid  messages_costs  mb_paid  internet_costs  \n",
       "0            0              0               0        0               0  \n",
       "1            0              0               0        0               0  \n",
       "2            0              0               0        0               0  \n",
       "3            0              0               0        0               0  \n",
       "4            0              0               0        0               0  "
      ]
     },
     "execution_count": 23,
     "metadata": {},
     "output_type": "execute_result"
    }
   ],
   "source": [
    "# объединим таблицу с данными о тарифе\n",
    "tariffs = tariffs.rename(columns={\"tariff_name\": \"tariff\"})\n",
    "result_costs = pd.merge(result, tariffs, on='tariff', how='outer')\n",
    "#result_costs['calls_costs'] = 0\n",
    "#result_costs['messages_costs'] = 0\n",
    "#result_costs['internet_costs'] = 0\n",
    "\n",
    "result_costs['minutes_paid'] = result_costs['duration'] - result_costs['minutes_included']\n",
    "result_costs['minutes_paid'] = result_costs['minutes_paid'].astype(int)\n",
    "result_costs.loc[result_costs['minutes_paid'] < 0, 'minutes_paid'] = 0\n",
    "result_costs['calls_costs'] = result_costs['minutes_paid'] * result_costs['rub_per_minute']\n",
    "\n",
    "result_costs['messages_paid'] = result_costs['message_count'] - result_costs['messages_included']\n",
    "result_costs['messages_paid'] = result_costs['messages_paid'].astype(int)\n",
    "result_costs.loc[result_costs['messages_paid'] < 0, 'messages_paid'] = 0\n",
    "result_costs['messages_costs'] = result_costs['messages_paid'] * result_costs['rub_per_message']\n",
    "\n",
    "result_costs['mb_paid'] = result_costs['mb_used'] - result_costs['mg_per_month_included']\n",
    "result_costs['mb_paid'] = result_costs['mb_paid'].astype(int)\n",
    "result_costs.loc[result_costs['mb_paid'] < 0, 'mb_paid'] = 0\n",
    "result_costs['internet_costs'] = result_costs['mb_paid']  // 1024 * result_costs['rub_per_gb']\n",
    "#for i in range(result_costs.shape[0]):\n",
    "#    if result_costs['duration'][i] > result_costs['minutes_included'][i]:\n",
    "#        result_costs['calls_costs'][i] = (result_costs['duration'][i] - result_costs['minutes_included'][i]) * result_costs['rub_per_minute'][i]\n",
    "#    if result_costs['message_count'][i] > result_costs['messages_included'][i]:\n",
    "#        result_costs['messages_costs'][i] = (result_costs['message_count'][i] - result_costs['messages_included'][i]) * result_costs['rub_per_message'][i]\n",
    " #   if result_costs['mb_used'][i] > result_costs['mg_per_month_included'][i]:\n",
    " #       result_costs['internet_costs'][i] = (result_costs['mb_used'][i] - result_costs['mg_per_month_included'][i]) / 1024 * result_costs['rub_per_gb'][i]\n",
    "        \n",
    "result_costs.head()"
   ]
  },
  {
   "cell_type": "code",
   "execution_count": 24,
   "metadata": {},
   "outputs": [
    {
     "data": {
      "text/plain": [
       "1674"
      ]
     },
     "execution_count": 24,
     "metadata": {},
     "output_type": "execute_result"
    }
   ],
   "source": [
    "# количество случаев, когда пользователь выходил за рамки тарифа. Запомним....\n",
    "result_costs.query('calls_costs > 0 or messages_costs > 0 or internet_costs > 0').shape[0]"
   ]
  },
  {
   "cell_type": "markdown",
   "metadata": {},
   "source": [
    "В 1674 случаях (это больше 50%) пользователи выходили за рамки тарифа"
   ]
  },
  {
   "cell_type": "code",
   "execution_count": 25,
   "metadata": {},
   "outputs": [
    {
     "name": "stdout",
     "output_type": "stream",
     "text": [
      "46\n",
      "2\n"
     ]
    }
   ],
   "source": [
    "print(result_costs.query('duration==0').shape[0])\n",
    "print(result_costs.query('duration==0 and message_count == 0').shape[0])"
   ]
  },
  {
   "cell_type": "code",
   "execution_count": 26,
   "metadata": {},
   "outputs": [
    {
     "name": "stdout",
     "output_type": "stream",
     "text": [
      "13\n",
      "497\n"
     ]
    }
   ],
   "source": [
    "print(result_costs.query('mb_used==0').shape[0])\n",
    "print(result_costs.query('message_count==0').shape[0])"
   ]
  },
  {
   "cell_type": "markdown",
   "metadata": {},
   "source": [
    "только в 46 (1,4%) случаях поьзователи не использовали минуты разговора, в 2 (0,06%) использовали только интернет (ни звонков, ни сообщений) и в 13 (0,4%) случаях не использовали интернет. При этом в 497 (15,4%) случаях пользователь не использовал ни одного смс. Случай - это комбинация пользователя и месяца. "
   ]
  },
  {
   "cell_type": "code",
   "execution_count": 27,
   "metadata": {},
   "outputs": [
    {
     "data": {
      "text/html": [
       "<div>\n",
       "<style scoped>\n",
       "    .dataframe tbody tr th:only-of-type {\n",
       "        vertical-align: middle;\n",
       "    }\n",
       "\n",
       "    .dataframe tbody tr th {\n",
       "        vertical-align: top;\n",
       "    }\n",
       "\n",
       "    .dataframe thead th {\n",
       "        text-align: right;\n",
       "    }\n",
       "</style>\n",
       "<table border=\"1\" class=\"dataframe\">\n",
       "  <thead>\n",
       "    <tr style=\"text-align: right;\">\n",
       "      <th></th>\n",
       "      <th>user_id</th>\n",
       "      <th>city</th>\n",
       "      <th>tariff</th>\n",
       "      <th>month</th>\n",
       "      <th>total_costs</th>\n",
       "    </tr>\n",
       "  </thead>\n",
       "  <tbody>\n",
       "    <tr>\n",
       "      <th>0</th>\n",
       "      <td>1000</td>\n",
       "      <td>Краснодар</td>\n",
       "      <td>ultra</td>\n",
       "      <td>5</td>\n",
       "      <td>1950</td>\n",
       "    </tr>\n",
       "    <tr>\n",
       "      <th>1</th>\n",
       "      <td>1000</td>\n",
       "      <td>Краснодар</td>\n",
       "      <td>ultra</td>\n",
       "      <td>6</td>\n",
       "      <td>1950</td>\n",
       "    </tr>\n",
       "    <tr>\n",
       "      <th>2</th>\n",
       "      <td>1000</td>\n",
       "      <td>Краснодар</td>\n",
       "      <td>ultra</td>\n",
       "      <td>7</td>\n",
       "      <td>1950</td>\n",
       "    </tr>\n",
       "    <tr>\n",
       "      <th>3</th>\n",
       "      <td>1000</td>\n",
       "      <td>Краснодар</td>\n",
       "      <td>ultra</td>\n",
       "      <td>8</td>\n",
       "      <td>1950</td>\n",
       "    </tr>\n",
       "    <tr>\n",
       "      <th>4</th>\n",
       "      <td>1000</td>\n",
       "      <td>Краснодар</td>\n",
       "      <td>ultra</td>\n",
       "      <td>9</td>\n",
       "      <td>1950</td>\n",
       "    </tr>\n",
       "  </tbody>\n",
       "</table>\n",
       "</div>"
      ],
      "text/plain": [
       "   user_id       city tariff  month  total_costs\n",
       "0     1000  Краснодар  ultra      5         1950\n",
       "1     1000  Краснодар  ultra      6         1950\n",
       "2     1000  Краснодар  ultra      7         1950\n",
       "3     1000  Краснодар  ultra      8         1950\n",
       "4     1000  Краснодар  ultra      9         1950"
      ]
     },
     "execution_count": 27,
     "metadata": {},
     "output_type": "execute_result"
    }
   ],
   "source": [
    "# рассчитаем общие затраты пользователей\n",
    "result_costs['total_costs'] = result_costs['rub_monthly_fee'] + result_costs['calls_costs'] + result_costs['messages_costs'] + result_costs['internet_costs']\n",
    "result_costs_short = result_costs[['user_id', 'city', 'tariff', 'month', 'total_costs']]\n",
    "result_costs_short.head()"
   ]
  },
  {
   "cell_type": "markdown",
   "metadata": {},
   "source": [
    "## Строим гистограммы и ящики с усами"
   ]
  },
  {
   "cell_type": "code",
   "execution_count": 28,
   "metadata": {},
   "outputs": [],
   "source": [
    "# разделим данные по тарифам и по городам\n",
    "result_ultra = result_costs.query('tariff == \"ultra\"')\n",
    "result_smart = result_costs.query('tariff == \"smart\"')\n",
    "result_moscow = result_costs.query('city == \"Москва\"')\n",
    "result_others = result_costs.query('city != \"Москва\"')"
   ]
  },
  {
   "cell_type": "markdown",
   "metadata": {},
   "source": [
    "### Тариф ULTRA"
   ]
  },
  {
   "cell_type": "code",
   "execution_count": 29,
   "metadata": {},
   "outputs": [
    {
     "data": {
      "text/html": [
       "<div>\n",
       "<style scoped>\n",
       "    .dataframe tbody tr th:only-of-type {\n",
       "        vertical-align: middle;\n",
       "    }\n",
       "\n",
       "    .dataframe tbody tr th {\n",
       "        vertical-align: top;\n",
       "    }\n",
       "\n",
       "    .dataframe thead th {\n",
       "        text-align: right;\n",
       "    }\n",
       "</style>\n",
       "<table border=\"1\" class=\"dataframe\">\n",
       "  <thead>\n",
       "    <tr style=\"text-align: right;\">\n",
       "      <th></th>\n",
       "      <th>duration</th>\n",
       "      <th>message_count</th>\n",
       "      <th>mb_used</th>\n",
       "    </tr>\n",
       "  </thead>\n",
       "  <tbody>\n",
       "    <tr>\n",
       "      <th>count</th>\n",
       "      <td>985.000000</td>\n",
       "      <td>985.000000</td>\n",
       "      <td>985.000000</td>\n",
       "    </tr>\n",
       "    <tr>\n",
       "      <th>mean</th>\n",
       "      <td>497.068223</td>\n",
       "      <td>49.363452</td>\n",
       "      <td>19468.805208</td>\n",
       "    </tr>\n",
       "    <tr>\n",
       "      <th>std</th>\n",
       "      <td>299.904152</td>\n",
       "      <td>47.804457</td>\n",
       "      <td>10087.170752</td>\n",
       "    </tr>\n",
       "    <tr>\n",
       "      <th>min</th>\n",
       "      <td>0.000000</td>\n",
       "      <td>0.000000</td>\n",
       "      <td>0.000000</td>\n",
       "    </tr>\n",
       "    <tr>\n",
       "      <th>25%</th>\n",
       "      <td>267.750000</td>\n",
       "      <td>6.000000</td>\n",
       "      <td>11770.260000</td>\n",
       "    </tr>\n",
       "    <tr>\n",
       "      <th>50%</th>\n",
       "      <td>488.100000</td>\n",
       "      <td>38.000000</td>\n",
       "      <td>19308.010000</td>\n",
       "    </tr>\n",
       "    <tr>\n",
       "      <th>75%</th>\n",
       "      <td>711.470000</td>\n",
       "      <td>79.000000</td>\n",
       "      <td>26837.690000</td>\n",
       "    </tr>\n",
       "    <tr>\n",
       "      <th>max</th>\n",
       "      <td>1578.060000</td>\n",
       "      <td>224.000000</td>\n",
       "      <td>49745.690000</td>\n",
       "    </tr>\n",
       "  </tbody>\n",
       "</table>\n",
       "</div>"
      ],
      "text/plain": [
       "          duration  message_count       mb_used\n",
       "count   985.000000     985.000000    985.000000\n",
       "mean    497.068223      49.363452  19468.805208\n",
       "std     299.904152      47.804457  10087.170752\n",
       "min       0.000000       0.000000      0.000000\n",
       "25%     267.750000       6.000000  11770.260000\n",
       "50%     488.100000      38.000000  19308.010000\n",
       "75%     711.470000      79.000000  26837.690000\n",
       "max    1578.060000     224.000000  49745.690000"
      ]
     },
     "execution_count": 29,
     "metadata": {},
     "output_type": "execute_result"
    }
   ],
   "source": [
    "result_ultra.describe()[['duration', 'message_count', 'mb_used']]"
   ]
  },
  {
   "cell_type": "code",
   "execution_count": 31,
   "metadata": {},
   "outputs": [
    {
     "data": {
      "text/plain": [
       "<matplotlib.axes._subplots.AxesSubplot at 0xd1d0320>"
      ]
     },
     "execution_count": 31,
     "metadata": {},
     "output_type": "execute_result"
    },
    {
     "data": {
      "image/png": "[encoded data removed]",
      "text/plain": [
       "<Figure size 432x288 with 1 Axes>"
      ]
     },
     "metadata": {
      "needs_background": "light"
     },
     "output_type": "display_data"
    }
   ],
   "source": [
    "import matplotlib.pyplot as plt\n",
    "\n",
    "result_ultra.boxplot(column=['duration'])"
   ]
  },
  {
   "cell_type": "code",
   "execution_count": 32,
   "metadata": {},
   "outputs": [
    {
     "data": {
      "text/plain": [
       "<matplotlib.axes._subplots.AxesSubplot at 0xd250518>"
      ]
     },
     "execution_count": 32,
     "metadata": {},
     "output_type": "execute_result"
    },
    {
     "data": {
      "image/png": "[encoded data removed]",
      "text/plain": [
       "<Figure size 432x288 with 1 Axes>"
      ]
     },
     "metadata": {
      "needs_background": "light"
     },
     "output_type": "display_data"
    }
   ],
   "source": [
    "result_ultra['duration'].hist(bins=100)"
   ]
  },
  {
   "cell_type": "code",
   "execution_count": 33,
   "metadata": {},
   "outputs": [
    {
     "data": {
      "text/plain": [
       "<matplotlib.axes._subplots.AxesSubplot at 0xd3ab240>"
      ]
     },
     "execution_count": 33,
     "metadata": {},
     "output_type": "execute_result"
    },
    {
     "data": {
      "image/png": "[encoded data removed]",
      "text/plain": [
       "<Figure size 432x288 with 1 Axes>"
      ]
     },
     "metadata": {
      "needs_background": "light"
     },
     "output_type": "display_data"
    }
   ],
   "source": [
    "result_ultra.boxplot(column=['message_count'])"
   ]
  },
  {
   "cell_type": "code",
   "execution_count": 34,
   "metadata": {},
   "outputs": [
    {
     "data": {
      "text/plain": [
       "<matplotlib.axes._subplots.AxesSubplot at 0xd48edd8>"
      ]
     },
     "execution_count": 34,
     "metadata": {},
     "output_type": "execute_result"
    },
    {
     "data": {
      "image/png": "[encoded data removed]",
      "text/plain": [
       "<Figure size 432x288 with 1 Axes>"
      ]
     },
     "metadata": {
      "needs_background": "light"
     },
     "output_type": "display_data"
    }
   ],
   "source": [
    "result_ultra['message_count'].hist(bins=100)"
   ]
  },
  {
   "cell_type": "code",
   "execution_count": 35,
   "metadata": {},
   "outputs": [
    {
     "data": {
      "text/plain": [
       "<matplotlib.axes._subplots.AxesSubplot at 0xd378828>"
      ]
     },
     "execution_count": 35,
     "metadata": {},
     "output_type": "execute_result"
    },
    {
     "data": {
      "image/png": "[encoded data removed]",
      "text/plain": [
       "<Figure size 432x288 with 1 Axes>"
      ]
     },
     "metadata": {
      "needs_background": "light"
     },
     "output_type": "display_data"
    }
   ],
   "source": [
    "result_ultra.boxplot(column=['mb_used'])"
   ]
  },
  {
   "cell_type": "code",
   "execution_count": 36,
   "metadata": {},
   "outputs": [
    {
     "data": {
      "text/plain": [
       "<matplotlib.axes._subplots.AxesSubplot at 0xddb72b0>"
      ]
     },
     "execution_count": 36,
     "metadata": {},
     "output_type": "execute_result"
    },
    {
     "data": {
      "image/png": "[encoded data removed]",
      "text/plain": [
       "<Figure size 432x288 with 1 Axes>"
      ]
     },
     "metadata": {
      "needs_background": "light"
     },
     "output_type": "display_data"
    }
   ],
   "source": [
    "result_ultra['mb_used'].hist(bins=100)"
   ]
  },
  {
   "cell_type": "markdown",
   "metadata": {},
   "source": [
    "### Тариф SMART"
   ]
  },
  {
   "cell_type": "code",
   "execution_count": 37,
   "metadata": {},
   "outputs": [
    {
     "data": {
      "text/html": [
       "<div>\n",
       "<style scoped>\n",
       "    .dataframe tbody tr th:only-of-type {\n",
       "        vertical-align: middle;\n",
       "    }\n",
       "\n",
       "    .dataframe tbody tr th {\n",
       "        vertical-align: top;\n",
       "    }\n",
       "\n",
       "    .dataframe thead th {\n",
       "        text-align: right;\n",
       "    }\n",
       "</style>\n",
       "<table border=\"1\" class=\"dataframe\">\n",
       "  <thead>\n",
       "    <tr style=\"text-align: right;\">\n",
       "      <th></th>\n",
       "      <th>duration</th>\n",
       "      <th>message_count</th>\n",
       "      <th>mb_used</th>\n",
       "    </tr>\n",
       "  </thead>\n",
       "  <tbody>\n",
       "    <tr>\n",
       "      <th>count</th>\n",
       "      <td>2229.000000</td>\n",
       "      <td>2229.000000</td>\n",
       "      <td>2229.000000</td>\n",
       "    </tr>\n",
       "    <tr>\n",
       "      <th>mean</th>\n",
       "      <td>394.427026</td>\n",
       "      <td>33.384029</td>\n",
       "      <td>16208.386990</td>\n",
       "    </tr>\n",
       "    <tr>\n",
       "      <th>std</th>\n",
       "      <td>179.962207</td>\n",
       "      <td>28.227876</td>\n",
       "      <td>5870.476681</td>\n",
       "    </tr>\n",
       "    <tr>\n",
       "      <th>min</th>\n",
       "      <td>0.000000</td>\n",
       "      <td>0.000000</td>\n",
       "      <td>0.000000</td>\n",
       "    </tr>\n",
       "    <tr>\n",
       "      <th>25%</th>\n",
       "      <td>267.230000</td>\n",
       "      <td>10.000000</td>\n",
       "      <td>12643.010000</td>\n",
       "    </tr>\n",
       "    <tr>\n",
       "      <th>50%</th>\n",
       "      <td>397.980000</td>\n",
       "      <td>28.000000</td>\n",
       "      <td>16506.840000</td>\n",
       "    </tr>\n",
       "    <tr>\n",
       "      <th>75%</th>\n",
       "      <td>515.070000</td>\n",
       "      <td>51.000000</td>\n",
       "      <td>20042.930000</td>\n",
       "    </tr>\n",
       "    <tr>\n",
       "      <th>max</th>\n",
       "      <td>1354.220000</td>\n",
       "      <td>143.000000</td>\n",
       "      <td>38552.450000</td>\n",
       "    </tr>\n",
       "  </tbody>\n",
       "</table>\n",
       "</div>"
      ],
      "text/plain": [
       "          duration  message_count       mb_used\n",
       "count  2229.000000    2229.000000   2229.000000\n",
       "mean    394.427026      33.384029  16208.386990\n",
       "std     179.962207      28.227876   5870.476681\n",
       "min       0.000000       0.000000      0.000000\n",
       "25%     267.230000      10.000000  12643.010000\n",
       "50%     397.980000      28.000000  16506.840000\n",
       "75%     515.070000      51.000000  20042.930000\n",
       "max    1354.220000     143.000000  38552.450000"
      ]
     },
     "execution_count": 37,
     "metadata": {},
     "output_type": "execute_result"
    }
   ],
   "source": [
    "result_smart.describe()[['duration', 'message_count', 'mb_used']]"
   ]
  },
  {
   "cell_type": "code",
   "execution_count": 38,
   "metadata": {},
   "outputs": [
    {
     "data": {
      "text/plain": [
       "<matplotlib.axes._subplots.AxesSubplot at 0xde7ab38>"
      ]
     },
     "execution_count": 38,
     "metadata": {},
     "output_type": "execute_result"
    },
    {
     "data": {
      "image/png": "[encoded data removed]",
      "text/plain": [
       "<Figure size 432x288 with 1 Axes>"
      ]
     },
     "metadata": {
      "needs_background": "light"
     },
     "output_type": "display_data"
    }
   ],
   "source": [
    "result_smart.boxplot(column=['duration'])"
   ]
  },
  {
   "cell_type": "code",
   "execution_count": 39,
   "metadata": {},
   "outputs": [
    {
     "data": {
      "text/plain": [
       "<matplotlib.axes._subplots.AxesSubplot at 0xeb1e4a8>"
      ]
     },
     "execution_count": 39,
     "metadata": {},
     "output_type": "execute_result"
    },
    {
     "data": {
      "image/png": "[encoded data removed]",
      "text/plain": [
       "<Figure size 432x288 with 1 Axes>"
      ]
     },
     "metadata": {
      "needs_background": "light"
     },
     "output_type": "display_data"
    }
   ],
   "source": [
    "result_smart['duration'].hist(bins=100)"
   ]
  },
  {
   "cell_type": "code",
   "execution_count": 40,
   "metadata": {},
   "outputs": [
    {
     "data": {
      "text/plain": [
       "<matplotlib.axes._subplots.AxesSubplot at 0xecbcc18>"
      ]
     },
     "execution_count": 40,
     "metadata": {},
     "output_type": "execute_result"
    },
    {
     "data": {
      "image/png": "[encoded data removed]",
      "text/plain": [
       "<Figure size 432x288 with 1 Axes>"
      ]
     },
     "metadata": {
      "needs_background": "light"
     },
     "output_type": "display_data"
    }
   ],
   "source": [
    "result_smart.boxplot(column=['message_count'])"
   ]
  },
  {
   "cell_type": "code",
   "execution_count": 41,
   "metadata": {},
   "outputs": [
    {
     "data": {
      "text/plain": [
       "<matplotlib.axes._subplots.AxesSubplot at 0xed79cf8>"
      ]
     },
     "execution_count": 41,
     "metadata": {},
     "output_type": "execute_result"
    },
    {
     "data": {
      "image/png": "[encoded data removed]",
      "text/plain": [
       "<Figure size 432x288 with 1 Axes>"
      ]
     },
     "metadata": {
      "needs_background": "light"
     },
     "output_type": "display_data"
    }
   ],
   "source": [
    "result_smart['message_count'].hist(bins=100)"
   ]
  },
  {
   "cell_type": "code",
   "execution_count": 42,
   "metadata": {},
   "outputs": [
    {
     "data": {
      "text/plain": [
       "<matplotlib.axes._subplots.AxesSubplot at 0xf24e160>"
      ]
     },
     "execution_count": 42,
     "metadata": {},
     "output_type": "execute_result"
    },
    {
     "data": {
      "image/png": "[encoded data removed]",
      "text/plain": [
       "<Figure size 432x288 with 1 Axes>"
      ]
     },
     "metadata": {
      "needs_background": "light"
     },
     "output_type": "display_data"
    }
   ],
   "source": [
    "result_smart.boxplot(column=['mb_used'])"
   ]
  },
  {
   "cell_type": "code",
   "execution_count": 43,
   "metadata": {},
   "outputs": [
    {
     "data": {
      "text/plain": [
       "<matplotlib.axes._subplots.AxesSubplot at 0xf2d29b0>"
      ]
     },
     "execution_count": 43,
     "metadata": {},
     "output_type": "execute_result"
    },
    {
     "data": {
      "image/png": "[encoded data removed]",
      "text/plain": [
       "<Figure size 432x288 with 1 Axes>"
      ]
     },
     "metadata": {
      "needs_background": "light"
     },
     "output_type": "display_data"
    }
   ],
   "source": [
    "result_smart['mb_used'].hist(bins=100)"
   ]
  },
  {
   "cell_type": "markdown",
   "metadata": {},
   "source": [
    "## Первые итоги. \n",
    "\n",
    "Анализ показывает предсказуемые результаты - люди все меньше звонят и обменниваются смс-сообщениями, а все больше используют интернет.\n",
    "\n",
    "Пользователи тарифа ULTRA звонять намного мньше, чем пользователли тарифа SMART. При этом есть отдельные пользователи в каждом тарифе, которые наговари вают по 1500 минут в месяц.\n",
    "\n",
    "СМС-ки стремительно теряют популярность большАя часть пользователей (около 15%) вообще не пользуются СМС. Даже 'любители' СМС используют максимум 143 смс-ки в месяц на тарифе SMART и максимум 224 смс-ки на тарифе ULTRA.\n",
    "\n",
    "Использование интернета на телефонах привалирует. Меньше 0,5% случаев, когда интернет не использовался вообще в течении месяца. При этом средние показатели использования интернет-трафика для двух тарифов отличаются незначительно (SMART - 16 Гб, ULTRA - 19Гб).\n",
    "\n",
    "Все распределения близки к нормальным. При этом для звонков и СМС мешают 0, если их отбросить, то \"нормальность\" распределения будет более очевидна. Самое яркое нормальное распреедление - использование интернета в тарифе SMART.\n",
    "\n",
    "Нет больших выбросов в данных, т.к среднее значения близки к медианам."
   ]
  },
  {
   "cell_type": "markdown",
   "metadata": {},
   "source": [
    "## Проверка гипотез"
   ]
  },
  {
   "cell_type": "markdown",
   "metadata": {},
   "source": [
    "### Рассмотрим первую гипотезу:\n",
    "#### Cредняя выручка пользователей тарифов «Ультра» и «Смарт» различаются\n",
    "\n",
    "Обозначим среднии выручки М1 и М2, тогда:\n",
    "\n",
    "нулевая гипотеза Н0: М1=М2\n",
    "\n",
    "альтернативная гипотеза На: М1!=М2 (двухсторонняя альтернатива)"
   ]
  },
  {
   "cell_type": "code",
   "execution_count": 44,
   "metadata": {},
   "outputs": [],
   "source": [
    "# выделим выручку тарифа ULTRA и SMART\n",
    "ultra_costs = result_ultra['total_costs']\n",
    "smart_costs = result_smart['total_costs']"
   ]
  },
  {
   "cell_type": "code",
   "execution_count": 45,
   "metadata": {},
   "outputs": [
    {
     "name": "stdout",
     "output_type": "stream",
     "text": [
      "p-значение:  7.544019623563157e-250\n",
      "Отвергаем нулевую гипотезу\n"
     ]
    }
   ],
   "source": [
    "from scipy import stats as st\n",
    "\n",
    "# установим уровень значимости\n",
    "alpha = .05 \n",
    "\n",
    "# выборки независимые, поэтому\n",
    "hipotest = st.ttest_ind(\n",
    "    ultra_costs, \n",
    "    smart_costs)\n",
    "\n",
    "print('p-значение: ', hipotest.pvalue)\n",
    "\n",
    "if (hipotest.pvalue < alpha):\n",
    "    print(\"Отвергаем нулевую гипотезу\")\n",
    "else:\n",
    "    print(\"Не получилось отвергнуть нулевую гипотезу\")"
   ]
  },
  {
   "cell_type": "code",
   "execution_count": 46,
   "metadata": {},
   "outputs": [],
   "source": [
    "import scipy.stats\n",
    "\n",
    "\n",
    "def mean_confidence_interval(data, confidence=0.95):\n",
    "    a = 1.0 * np.array(data)\n",
    "    n = len(a)\n",
    "    m, se = np.mean(a), scipy.stats.sem(a)\n",
    "    h = se * scipy.stats.t.ppf((1 + confidence) / 2., n-1)\n",
    "    return m, m-h, m+h"
   ]
  },
  {
   "cell_type": "code",
   "execution_count": 47,
   "metadata": {},
   "outputs": [
    {
     "data": {
      "text/plain": [
       "(2049.746192893401, 2028.7285001121825, 2070.7638856746194)"
      ]
     },
     "execution_count": 47,
     "metadata": {},
     "output_type": "execute_result"
    }
   ],
   "source": [
    "mean_confidence_interval(ultra_costs, confidence=0.95)"
   ]
  },
  {
   "cell_type": "code",
   "execution_count": 48,
   "metadata": {},
   "outputs": [
    {
     "data": {
      "text/plain": [
       "(1139.7469717362046, 1109.0531391412044, 1170.4408043312048)"
      ]
     },
     "execution_count": 48,
     "metadata": {},
     "output_type": "execute_result"
    }
   ],
   "source": [
    "mean_confidence_interval(smart_costs, confidence=0.95)"
   ]
  },
  {
   "cell_type": "markdown",
   "metadata": {},
   "source": [
    "### Вывод\n",
    "\n",
    "Пользователи тарифов ULTRA и SMART обеспечивают разную выручку.\n",
    "В действительности пользователи тарифа ULTRA тратят больше. В среднем пользователь тарифа ULTRA тратит 2050 руб (95% интервал [2028, 2070]). Пользователь тарифа SMART в среднем тратит 1139 руб. (95% интервал [1109, 1170])"
   ]
  },
  {
   "cell_type": "markdown",
   "metadata": {},
   "source": [
    "### Рассмотрим вторую гипотезу:\n",
    "#### Средняя выручка пользователей из Москвы отличается от выручки пользователей из других регионов\n",
    "\n",
    "Обозначим среднии выручки М1 и М2, тогда:\n",
    "\n",
    "нулевая гипотеза Н0: М1=М2\n",
    "\n",
    "альтернативная гипотеза На: М1!=М2 (двухсторонняя альтернатива)"
   ]
  },
  {
   "cell_type": "code",
   "execution_count": 49,
   "metadata": {},
   "outputs": [],
   "source": [
    "# выделим выручку пользователей из Москвы и из других регионов\n",
    "moscow_costs = result_moscow['total_costs']\n",
    "others_costs = result_others['total_costs']"
   ]
  },
  {
   "cell_type": "code",
   "execution_count": 50,
   "metadata": {},
   "outputs": [
    {
     "name": "stdout",
     "output_type": "stream",
     "text": [
      "p-значение:  0.3300068428693087\n",
      "Не получилось отвергнуть нулевую гипотезу\n"
     ]
    }
   ],
   "source": [
    "# установим уровень значимости\n",
    "alpha = .05\n",
    "\n",
    "# выборки независимые, поэтому\n",
    "hipotest = st.ttest_ind(\n",
    "    moscow_costs, \n",
    "    others_costs)\n",
    "\n",
    "print('p-значение: ', hipotest.pvalue)\n",
    "\n",
    "if (hipotest.pvalue < alpha):\n",
    "    print(\"Отвергаем нулевую гипотезу\")\n",
    "else:\n",
    "    print(\"Не получилось отвергнуть нулевую гипотезу\")"
   ]
  },
  {
   "cell_type": "code",
   "execution_count": 51,
   "metadata": {},
   "outputs": [
    {
     "data": {
      "text/plain": [
       "(1445.8657937806875, 1387.8390148154228, 1503.892572745952)"
      ]
     },
     "execution_count": 51,
     "metadata": {},
     "output_type": "execute_result"
    }
   ],
   "source": [
    "mean_confidence_interval(moscow_costs, confidence=0.95)"
   ]
  },
  {
   "cell_type": "code",
   "execution_count": 52,
   "metadata": {},
   "outputs": [
    {
     "data": {
      "text/plain": [
       "(1412.2443334613906, 1382.4130923566406, 1442.0755745661406)"
      ]
     },
     "execution_count": 52,
     "metadata": {},
     "output_type": "execute_result"
    }
   ],
   "source": [
    "mean_confidence_interval(others_costs, confidence=0.95)"
   ]
  },
  {
   "cell_type": "markdown",
   "metadata": {},
   "source": [
    "### Выводы\n",
    "\n",
    "Из полученных данных нельзя сказать что выручка от пользователей из Москвы отличаетсся от выручки от пользователей из других регионов.\n",
    "\n",
    "Действительно средние значения очень близки (1445 руб для Москвы и 1412 для регионов), и доверительные интервалы сильно перекрываются ([1387, 1503] - для Москвы и [1382, 1442] - для регионов)"
   ]
  },
  {
   "cell_type": "code",
   "execution_count": null,
   "metadata": {},
   "outputs": [],
   "source": []
  }
 ],
 "metadata": {
  "kernelspec": {
   "display_name": "Python 3",
   "language": "python",
   "name": "python3"
  },
  "language_info": {
   "codemirror_mode": {
    "name": "ipython",
    "version": 3
   },
   "file_extension": ".py",
   "mimetype": "text/x-python",
   "name": "python",
   "nbconvert_exporter": "python",
   "pygments_lexer": "ipython3",
   "version": "3.7.3"
  }
 },
 "nbformat": 4,
 "nbformat_minor": 2
}
